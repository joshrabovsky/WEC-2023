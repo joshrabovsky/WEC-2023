{
 "cells": [
  {
   "attachments": {},
   "cell_type": "markdown",
   "metadata": {},
   "source": [
    "## Charts by Category and Department"
   ]
  },
  {
   "attachments": {},
   "cell_type": "markdown",
   "metadata": {},
   "source": [
    "Link to [Visualization of Charts by Department and Category](chartsByDepartmentAndCategory.ipynb)\n",
    "\n",
    "The following organizes the CO2 emissions data by Category (Food, Transportation, Electronic) and by Department (Software, Electrical, Mechnical, Civil, Electrical)."
   ]
  },
  {
   "attachments": {},
   "cell_type": "markdown",
   "metadata": {},
   "source": [
    "# Charts by Individual"
   ]
  },
  {
   "attachments": {},
   "cell_type": "markdown",
   "metadata": {},
   "source": [
    "Link to [Visualization of Charts by Individual](chartsByIndividual.ipynb)\n",
    "\n",
    "The following organizes the CO2 emissions data by individual and also provides metrics that are converted to understandable units (amount of steaks, equivalent distance travelled around the equator, etc.)"
   ]
  }
 ],
 "metadata": {
  "kernelspec": {
   "display_name": "venv_name",
   "language": "python",
   "name": "python3"
  },
  "language_info": {
   "name": "python",
<<<<<<< HEAD
   "version": "3.9.13 (tags/v3.9.13:6de2ca5, May 17 2022, 16:36:42) [MSC v.1929 64 bit (AMD64)]"
=======
   "version": "3.7.9 (tags/v3.7.9:13c94747c7, Aug 17 2020, 16:30:00) [MSC v.1900 64 bit (AMD64)]"
>>>>>>> d60ff5a13fdea861abefd526329283c662dd6a0f
  },
  "orig_nbformat": 4,
  "vscode": {
   "interpreter": {
<<<<<<< HEAD
    "hash": "a6464a8dd7baf01b6f59f98e21c9c5b77a24b8f4ad51769d3cdd64dc99101640"
=======
    "hash": "d38678f14c613abdc0d6ce0f4cb1e7e52c233d82e0812f028c5fc8ab0edf1f18"
>>>>>>> d60ff5a13fdea861abefd526329283c662dd6a0f
   }
  }
 },
 "nbformat": 4,
 "nbformat_minor": 2
}
