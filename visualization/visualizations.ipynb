{
 "cells": [
  {
   "attachments": {},
   "cell_type": "markdown",
   "metadata": {},
   "source": [
    "## Charts by Category and Department"
   ]
  },
  {
   "attachments": {},
   "cell_type": "markdown",
   "metadata": {},
   "source": [
    "Link to [Visualization of Charts by Department and Category](chartsByDepartmentAndCategory.ipynb)\n",
    "\n",
    "The following organizes the CO2 emissions data by Category (Food, Transportation, Electronic) and by Department (Software, Electrical, Mechnical, Civil, Electrical)."
   ]
  },
  {
   "attachments": {},
   "cell_type": "markdown",
   "metadata": {},
   "source": [
    "## Charts by Individual"
   ]
  },
  {
   "attachments": {},
   "cell_type": "markdown",
   "metadata": {},
   "source": [
    "Link to [Visualization of Charts by Individual](chartsByIndividual.ipynb)\n",
    "\n",
    "The following organizes the CO2 emissions data by individual and also provides metrics that are converted to understandable units (amount of steaks, equivalent distance travelled around the equator, etc.)"
   ]
  },
  {
   "attachments": {},
   "cell_type": "markdown",
   "metadata": {},
   "source": [
    "## User Stat Tool!\n",
    "\n",
    "Link to [Visualization Tool For Individuals](statsTool.ipynb)\n",
    "\n",
    "The following tool allows individuals to test different configurations of lifestyles changes to achieve their New Year Resolution Goals."
   ]
  }
 ],
 "metadata": {
  "kernelspec": {
   "display_name": "Python 3",
   "language": "python",
   "name": "python3"
  },
  "language_info": {
   "name": "python",
   "version": "3.9.6 (default, Oct 18 2022, 12:41:40) \n[Clang 14.0.0 (clang-1400.0.29.202)]"
  },
  "orig_nbformat": 4,
  "vscode": {
   "interpreter": {
    "hash": "31f2aee4e71d21fbe5cf8b01ff0e069b9275f58929596ceb00d14d90e3e16cd6"
   }
  }
 },
 "nbformat": 4,
 "nbformat_minor": 2
}
