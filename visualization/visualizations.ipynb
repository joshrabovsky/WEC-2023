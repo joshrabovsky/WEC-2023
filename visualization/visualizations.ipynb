{
 "cells": [
  {
   "attachments": {},
   "cell_type": "markdown",
   "metadata": {},
   "source": [
    "## Charts by Category and Department"
   ]
  },
  {
   "attachments": {},
   "cell_type": "markdown",
   "metadata": {},
   "source": [
    "Link to [Visualization of Charts by Department and Category](chartsByDepartmentAndCategory.ipynb)\n",
    "\n",
    "The following organizes the CO2 emissions data by Category (Food, Transportation, Electronic) and by Department (Software, Electrical, Mechnical, Civil, Electrical)."
   ]
  },
  {
   "attachments": {},
   "cell_type": "markdown",
   "metadata": {},
   "source": [
    "# Charts by Individual"
   ]
  },
  {
   "attachments": {},
   "cell_type": "markdown",
   "metadata": {},
   "source": [
    "Link to [Visualization of Charts by Individual](chartsByIndividual.ipynb)\n",
    "\n",
    "The following organizes the CO2 emissions data by individual and also provides metrics that are converted to understandable units (amount of steaks, equivalent distance travelled around the equator, etc.)"
   ]
  }
 ],
 "metadata": {
  "kernelspec": {
   "display_name": "venv_name",
   "language": "python",
   "name": "python3"
  },
  "language_info": {
   "name": "python",
   "version": "3.9.13 (tags/v3.9.13:6de2ca5, May 17 2022, 16:36:42) [MSC v.1929 64 bit (AMD64)]"
  },
  "orig_nbformat": 4,
  "vscode": {
   "interpreter": {
    "hash": "a6464a8dd7baf01b6f59f98e21c9c5b77a24b8f4ad51769d3cdd64dc99101640"
   }
  }
 },
 "nbformat": 4,
 "nbformat_minor": 2
}
