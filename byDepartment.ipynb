{
 "cells": [
  {
   "attachments": {},
   "cell_type": "markdown",
   "metadata": {},
   "source": [
    "# Charts by Category and Department"
   ]
  },
  {
   "attachments": {},
   "cell_type": "markdown",
   "metadata": {},
   "source": [
    "The following organizes the CO2 emissions data by Category (Food, Transportation, Electronic) and by Department (Software, Electrical, Mechnical, Civil, Electrical)."
   ]
  },
  {
   "attachments": {},
   "cell_type": "markdown",
   "metadata": {},
   "source": [
    "### Import Data"
   ]
  },
  {
   "cell_type": "code",
   "execution_count": 104,
   "metadata": {},
   "outputs": [],
   "source": [
    "# Import libraries\n",
    "import pandas as pd\n",
    "import plotly.express as px\n",
    "\n",
    "# Read data in from pre-filtered CSV\n",
    "df = pd.read_csv('./extraction/emissions.csv')"
   ]
  },
  {
   "attachments": {},
   "cell_type": "markdown",
   "metadata": {},
   "source": [
    "### Filter Data by Category"
   ]
  },
  {
   "cell_type": "code",
   "execution_count": 105,
   "metadata": {},
   "outputs": [
    {
     "data": {
      "text/html": [
       "<div>\n",
       "<style scoped>\n",
       "    .dataframe tbody tr th:only-of-type {\n",
       "        vertical-align: middle;\n",
       "    }\n",
       "\n",
       "    .dataframe tbody tr th {\n",
       "        vertical-align: top;\n",
       "    }\n",
       "\n",
       "    .dataframe thead th {\n",
       "        text-align: right;\n",
       "    }\n",
       "</style>\n",
       "<table border=\"1\" class=\"dataframe\">\n",
       "  <thead>\n",
       "    <tr style=\"text-align: right;\">\n",
       "      <th></th>\n",
       "      <th>address</th>\n",
       "      <th>controller</th>\n",
       "      <th>action</th>\n",
       "      <th>endpoint</th>\n",
       "      <th>new_year_resolution</th>\n",
       "      <th>discipline</th>\n",
       "      <th>username</th>\n",
       "      <th>status</th>\n",
       "      <th>items/total</th>\n",
       "      <th>red_meat_co2_emissions</th>\n",
       "      <th>...</th>\n",
       "      <th>car_co2_emissions</th>\n",
       "      <th>car_hours</th>\n",
       "      <th>walking_co2_emissions</th>\n",
       "      <th>walking_hours</th>\n",
       "      <th>public_transport_co2_emissions</th>\n",
       "      <th>public_transport_hours</th>\n",
       "      <th>tv_hour</th>\n",
       "      <th>food</th>\n",
       "      <th>transportation</th>\n",
       "      <th>electronic</th>\n",
       "    </tr>\n",
       "  </thead>\n",
       "  <tbody>\n",
       "    <tr>\n",
       "      <th>0</th>\n",
       "      <td>178373</td>\n",
       "      <td>LocationController</td>\n",
       "      <td>Get</td>\n",
       "      <td>(OWL) https://uwo.ca/edge/software</td>\n",
       "      <td>5%</td>\n",
       "      <td>software</td>\n",
       "      <td>Sammy</td>\n",
       "      <td>4</td>\n",
       "      <td>2/1</td>\n",
       "      <td>362.873600</td>\n",
       "      <td>...</td>\n",
       "      <td>975.0</td>\n",
       "      <td>150</td>\n",
       "      <td>0</td>\n",
       "      <td>3</td>\n",
       "      <td>43.0</td>\n",
       "      <td>10</td>\n",
       "      <td>NaN</td>\n",
       "      <td>937.756101</td>\n",
       "      <td>1018.0</td>\n",
       "      <td>1036.4</td>\n",
       "    </tr>\n",
       "    <tr>\n",
       "      <th>1</th>\n",
       "      <td>156354</td>\n",
       "      <td>Controlmite</td>\n",
       "      <td>Get</td>\n",
       "      <td>(OWL) https://uwo.ca/edge/software</td>\n",
       "      <td>15%</td>\n",
       "      <td>software</td>\n",
       "      <td>Griffin</td>\n",
       "      <td>0</td>\n",
       "      <td>3/1</td>\n",
       "      <td>322.957504</td>\n",
       "      <td>...</td>\n",
       "      <td>487.5</td>\n",
       "      <td>75</td>\n",
       "      <td>0</td>\n",
       "      <td>68</td>\n",
       "      <td>184.9</td>\n",
       "      <td>43</td>\n",
       "      <td>NaN</td>\n",
       "      <td>723.252444</td>\n",
       "      <td>672.4</td>\n",
       "      <td>1030.8</td>\n",
       "    </tr>\n",
       "    <tr>\n",
       "      <th>2</th>\n",
       "      <td>919323</td>\n",
       "      <td>ControlPublic</td>\n",
       "      <td>Get</td>\n",
       "      <td>https://uwo.ca/edge/electrical</td>\n",
       "      <td>9%</td>\n",
       "      <td>electrical</td>\n",
       "      <td>Spencer</td>\n",
       "      <td>0</td>\n",
       "      <td>3/5</td>\n",
       "      <td>94.347136</td>\n",
       "      <td>...</td>\n",
       "      <td>546.0</td>\n",
       "      <td>84</td>\n",
       "      <td>0</td>\n",
       "      <td>65</td>\n",
       "      <td>335.4</td>\n",
       "      <td>78</td>\n",
       "      <td>NaN</td>\n",
       "      <td>448.148896</td>\n",
       "      <td>881.4</td>\n",
       "      <td>1015.0</td>\n",
       "    </tr>\n",
       "    <tr>\n",
       "      <th>3</th>\n",
       "      <td>983575</td>\n",
       "      <td>Controlz</td>\n",
       "      <td>Get</td>\n",
       "      <td>(OWL) https://uwo.ca/edge/mechanical</td>\n",
       "      <td>4%</td>\n",
       "      <td>mechanical</td>\n",
       "      <td>Annie</td>\n",
       "      <td>0</td>\n",
       "      <td>3/1</td>\n",
       "      <td>127.005760</td>\n",
       "      <td>...</td>\n",
       "      <td>130.0</td>\n",
       "      <td>20</td>\n",
       "      <td>0</td>\n",
       "      <td>71</td>\n",
       "      <td>146.2</td>\n",
       "      <td>34</td>\n",
       "      <td>NaN</td>\n",
       "      <td>440.800706</td>\n",
       "      <td>276.2</td>\n",
       "      <td>641.8</td>\n",
       "    </tr>\n",
       "    <tr>\n",
       "      <th>4</th>\n",
       "      <td>919325</td>\n",
       "      <td>Control</td>\n",
       "      <td>Get</td>\n",
       "      <td>(OWL) https://uwo.ca/edge/mechanical</td>\n",
       "      <td>0%</td>\n",
       "      <td>mechanical</td>\n",
       "      <td>Aaron</td>\n",
       "      <td>0</td>\n",
       "      <td>3/1</td>\n",
       "      <td>199.580480</td>\n",
       "      <td>...</td>\n",
       "      <td>195.0</td>\n",
       "      <td>30</td>\n",
       "      <td>0</td>\n",
       "      <td>100</td>\n",
       "      <td>86.0</td>\n",
       "      <td>20</td>\n",
       "      <td>NaN</td>\n",
       "      <td>524.896662</td>\n",
       "      <td>281.0</td>\n",
       "      <td>1040.2</td>\n",
       "    </tr>\n",
       "    <tr>\n",
       "      <th>5</th>\n",
       "      <td>919325</td>\n",
       "      <td>LocationController</td>\n",
       "      <td>Get</td>\n",
       "      <td>https://uwo.ca/edge/mechanical</td>\n",
       "      <td>6%</td>\n",
       "      <td>mechanical</td>\n",
       "      <td>Jessica</td>\n",
       "      <td>0</td>\n",
       "      <td>3/3</td>\n",
       "      <td>199.580480</td>\n",
       "      <td>...</td>\n",
       "      <td>507.0</td>\n",
       "      <td>78</td>\n",
       "      <td>0</td>\n",
       "      <td>101</td>\n",
       "      <td>94.6</td>\n",
       "      <td>22</td>\n",
       "      <td>NaN</td>\n",
       "      <td>524.896662</td>\n",
       "      <td>601.6</td>\n",
       "      <td>890.0</td>\n",
       "    </tr>\n",
       "    <tr>\n",
       "      <th>6</th>\n",
       "      <td>737234</td>\n",
       "      <td>Cont</td>\n",
       "      <td>Get</td>\n",
       "      <td>https://uwo.ca/edge/mechanical</td>\n",
       "      <td>9%</td>\n",
       "      <td>mechanical</td>\n",
       "      <td>Juan</td>\n",
       "      <td>0</td>\n",
       "      <td>1/2</td>\n",
       "      <td>1088.620800</td>\n",
       "      <td>...</td>\n",
       "      <td>975.0</td>\n",
       "      <td>150</td>\n",
       "      <td>0</td>\n",
       "      <td>30</td>\n",
       "      <td>645.0</td>\n",
       "      <td>150</td>\n",
       "      <td>NaN</td>\n",
       "      <td>1088.620800</td>\n",
       "      <td>1620.0</td>\n",
       "      <td>790.4</td>\n",
       "    </tr>\n",
       "    <tr>\n",
       "      <th>7</th>\n",
       "      <td>919324</td>\n",
       "      <td>ControlPub</td>\n",
       "      <td>Get</td>\n",
       "      <td>(OWL) https://uwo.ca/edge/electrical</td>\n",
       "      <td>15%</td>\n",
       "      <td>electrical</td>\n",
       "      <td>Cameron</td>\n",
       "      <td>0</td>\n",
       "      <td>3/5</td>\n",
       "      <td>239.496576</td>\n",
       "      <td>...</td>\n",
       "      <td>286.0</td>\n",
       "      <td>44</td>\n",
       "      <td>0</td>\n",
       "      <td>111</td>\n",
       "      <td>361.2</td>\n",
       "      <td>84</td>\n",
       "      <td>NaN</td>\n",
       "      <td>621.647836</td>\n",
       "      <td>647.2</td>\n",
       "      <td>1095.0</td>\n",
       "    </tr>\n",
       "    <tr>\n",
       "      <th>8</th>\n",
       "      <td>1565535</td>\n",
       "      <td>Controlling</td>\n",
       "      <td>Get</td>\n",
       "      <td>(OWL) https://uwo.ca/edge/chemical</td>\n",
       "      <td>11%</td>\n",
       "      <td>chemical</td>\n",
       "      <td>Alexis</td>\n",
       "      <td>0</td>\n",
       "      <td>3/1</td>\n",
       "      <td>283.041408</td>\n",
       "      <td>...</td>\n",
       "      <td>78.0</td>\n",
       "      <td>12</td>\n",
       "      <td>0</td>\n",
       "      <td>200</td>\n",
       "      <td>0.0</td>\n",
       "      <td>0</td>\n",
       "      <td>NaN</td>\n",
       "      <td>426.331121</td>\n",
       "      <td>78.0</td>\n",
       "      <td>953.6</td>\n",
       "    </tr>\n",
       "    <tr>\n",
       "      <th>9</th>\n",
       "      <td>234567</td>\n",
       "      <td>LocationsController</td>\n",
       "      <td>Get</td>\n",
       "      <td>(OWL) https://uwo.ca/edge/software</td>\n",
       "      <td>0%</td>\n",
       "      <td>software</td>\n",
       "      <td>Prey</td>\n",
       "      <td>0</td>\n",
       "      <td>1/1</td>\n",
       "      <td>0.000000</td>\n",
       "      <td>...</td>\n",
       "      <td>390.0</td>\n",
       "      <td>60</td>\n",
       "      <td>0</td>\n",
       "      <td>85</td>\n",
       "      <td>0.0</td>\n",
       "      <td>0</td>\n",
       "      <td>NaN</td>\n",
       "      <td>65.544044</td>\n",
       "      <td>390.0</td>\n",
       "      <td>730.0</td>\n",
       "    </tr>\n",
       "    <tr>\n",
       "      <th>10</th>\n",
       "      <td>919323</td>\n",
       "      <td>ControlPub</td>\n",
       "      <td>Get</td>\n",
       "      <td>https://uwo.ca/edge/civil</td>\n",
       "      <td>7%</td>\n",
       "      <td>civil</td>\n",
       "      <td>Anthony</td>\n",
       "      <td>0</td>\n",
       "      <td>3/5</td>\n",
       "      <td>544.310400</td>\n",
       "      <td>...</td>\n",
       "      <td>0.0</td>\n",
       "      <td>0</td>\n",
       "      <td>0</td>\n",
       "      <td>150</td>\n",
       "      <td>215.0</td>\n",
       "      <td>50</td>\n",
       "      <td>NaN</td>\n",
       "      <td>850.439641</td>\n",
       "      <td>215.0</td>\n",
       "      <td>919.8</td>\n",
       "    </tr>\n",
       "    <tr>\n",
       "      <th>11</th>\n",
       "      <td>919323</td>\n",
       "      <td>Control</td>\n",
       "      <td>Get</td>\n",
       "      <td>(OWL) https://uwo.ca/edge/mechanical</td>\n",
       "      <td>16%</td>\n",
       "      <td>mechanical</td>\n",
       "      <td>Aaron</td>\n",
       "      <td>0</td>\n",
       "      <td>3/1</td>\n",
       "      <td>217.724160</td>\n",
       "      <td>...</td>\n",
       "      <td>195.0</td>\n",
       "      <td>30</td>\n",
       "      <td>0</td>\n",
       "      <td>100</td>\n",
       "      <td>86.0</td>\n",
       "      <td>20</td>\n",
       "      <td>NaN</td>\n",
       "      <td>499.858384</td>\n",
       "      <td>281.0</td>\n",
       "      <td>989.0</td>\n",
       "    </tr>\n",
       "    <tr>\n",
       "      <th>12</th>\n",
       "      <td>4684352</td>\n",
       "      <td>Controlmite</td>\n",
       "      <td>Get</td>\n",
       "      <td>(OWL) https://uwo.ca/edge/mechanical</td>\n",
       "      <td>5%</td>\n",
       "      <td>mechanical</td>\n",
       "      <td>Izzy</td>\n",
       "      <td>0</td>\n",
       "      <td>3/1</td>\n",
       "      <td>224.981632</td>\n",
       "      <td>...</td>\n",
       "      <td>52.0</td>\n",
       "      <td>8</td>\n",
       "      <td>0</td>\n",
       "      <td>68</td>\n",
       "      <td>610.6</td>\n",
       "      <td>142</td>\n",
       "      <td>1.0</td>\n",
       "      <td>530.884077</td>\n",
       "      <td>662.6</td>\n",
       "      <td>667.4</td>\n",
       "    </tr>\n",
       "    <tr>\n",
       "      <th>13</th>\n",
       "      <td>4563158</td>\n",
       "      <td>Controlnt</td>\n",
       "      <td>Get</td>\n",
       "      <td>(OWL) https://uwo.ca/edge/mechanical</td>\n",
       "      <td>5%</td>\n",
       "      <td>mechanical</td>\n",
       "      <td>Amanda</td>\n",
       "      <td>0</td>\n",
       "      <td>3/2</td>\n",
       "      <td>214.095424</td>\n",
       "      <td>...</td>\n",
       "      <td>247.0</td>\n",
       "      <td>38</td>\n",
       "      <td>0</td>\n",
       "      <td>74</td>\n",
       "      <td>227.9</td>\n",
       "      <td>53</td>\n",
       "      <td>NaN</td>\n",
       "      <td>532.018057</td>\n",
       "      <td>474.9</td>\n",
       "      <td>903.6</td>\n",
       "    </tr>\n",
       "    <tr>\n",
       "      <th>14</th>\n",
       "      <td>996563</td>\n",
       "      <td>Controller</td>\n",
       "      <td>Get</td>\n",
       "      <td>(OWL) https://uwo.ca/edge/electrical</td>\n",
       "      <td>5%</td>\n",
       "      <td>electrical</td>\n",
       "      <td>Matt</td>\n",
       "      <td>0</td>\n",
       "      <td>3/1</td>\n",
       "      <td>228.610368</td>\n",
       "      <td>...</td>\n",
       "      <td>325.0</td>\n",
       "      <td>50</td>\n",
       "      <td>0</td>\n",
       "      <td>10</td>\n",
       "      <td>215.0</td>\n",
       "      <td>50</td>\n",
       "      <td>NaN</td>\n",
       "      <td>693.950401</td>\n",
       "      <td>540.0</td>\n",
       "      <td>949.2</td>\n",
       "    </tr>\n",
       "    <tr>\n",
       "      <th>15</th>\n",
       "      <td>919300</td>\n",
       "      <td>Controlntt</td>\n",
       "      <td>Get</td>\n",
       "      <td>https://uwo.ca/edge/software</td>\n",
       "      <td>20%</td>\n",
       "      <td>software</td>\n",
       "      <td>Mark</td>\n",
       "      <td>0</td>\n",
       "      <td>3/2</td>\n",
       "      <td>199.580480</td>\n",
       "      <td>...</td>\n",
       "      <td>357.5</td>\n",
       "      <td>55</td>\n",
       "      <td>0</td>\n",
       "      <td>76</td>\n",
       "      <td>227.9</td>\n",
       "      <td>53</td>\n",
       "      <td>NaN</td>\n",
       "      <td>524.896662</td>\n",
       "      <td>585.4</td>\n",
       "      <td>590.0</td>\n",
       "    </tr>\n",
       "  </tbody>\n",
       "</table>\n",
       "<p>16 rows × 31 columns</p>\n",
       "</div>"
      ],
      "text/plain": [
       "    address           controller action                              endpoint  \\\n",
       "0    178373   LocationController    Get    (OWL) https://uwo.ca/edge/software   \n",
       "1    156354          Controlmite    Get    (OWL) https://uwo.ca/edge/software   \n",
       "2    919323        ControlPublic    Get        https://uwo.ca/edge/electrical   \n",
       "3    983575             Controlz    Get  (OWL) https://uwo.ca/edge/mechanical   \n",
       "4    919325              Control    Get  (OWL) https://uwo.ca/edge/mechanical   \n",
       "5    919325   LocationController    Get        https://uwo.ca/edge/mechanical   \n",
       "6    737234                 Cont    Get        https://uwo.ca/edge/mechanical   \n",
       "7    919324           ControlPub    Get  (OWL) https://uwo.ca/edge/electrical   \n",
       "8   1565535          Controlling    Get    (OWL) https://uwo.ca/edge/chemical   \n",
       "9    234567  LocationsController    Get    (OWL) https://uwo.ca/edge/software   \n",
       "10   919323           ControlPub    Get             https://uwo.ca/edge/civil   \n",
       "11   919323              Control    Get  (OWL) https://uwo.ca/edge/mechanical   \n",
       "12  4684352          Controlmite    Get  (OWL) https://uwo.ca/edge/mechanical   \n",
       "13  4563158            Controlnt    Get  (OWL) https://uwo.ca/edge/mechanical   \n",
       "14   996563           Controller    Get  (OWL) https://uwo.ca/edge/electrical   \n",
       "15   919300           Controlntt    Get          https://uwo.ca/edge/software   \n",
       "\n",
       "   new_year_resolution  discipline username  status items/total  \\\n",
       "0                   5%    software    Sammy       4         2/1   \n",
       "1                  15%    software  Griffin       0         3/1   \n",
       "2                   9%  electrical  Spencer       0         3/5   \n",
       "3                   4%  mechanical    Annie       0         3/1   \n",
       "4                   0%  mechanical    Aaron       0         3/1   \n",
       "5                   6%  mechanical  Jessica       0         3/3   \n",
       "6                   9%  mechanical     Juan       0         1/2   \n",
       "7                  15%  electrical  Cameron       0         3/5   \n",
       "8                  11%    chemical   Alexis       0         3/1   \n",
       "9                   0%    software     Prey       0         1/1   \n",
       "10                  7%       civil  Anthony       0         3/5   \n",
       "11                 16%  mechanical    Aaron       0         3/1   \n",
       "12                  5%  mechanical     Izzy       0         3/1   \n",
       "13                  5%  mechanical   Amanda       0         3/2   \n",
       "14                  5%  electrical     Matt       0         3/1   \n",
       "15                 20%    software     Mark       0         3/2   \n",
       "\n",
       "    red_meat_co2_emissions  ...  car_co2_emissions  car_hours  \\\n",
       "0               362.873600  ...              975.0        150   \n",
       "1               322.957504  ...              487.5         75   \n",
       "2                94.347136  ...              546.0         84   \n",
       "3               127.005760  ...              130.0         20   \n",
       "4               199.580480  ...              195.0         30   \n",
       "5               199.580480  ...              507.0         78   \n",
       "6              1088.620800  ...              975.0        150   \n",
       "7               239.496576  ...              286.0         44   \n",
       "8               283.041408  ...               78.0         12   \n",
       "9                 0.000000  ...              390.0         60   \n",
       "10              544.310400  ...                0.0          0   \n",
       "11              217.724160  ...              195.0         30   \n",
       "12              224.981632  ...               52.0          8   \n",
       "13              214.095424  ...              247.0         38   \n",
       "14              228.610368  ...              325.0         50   \n",
       "15              199.580480  ...              357.5         55   \n",
       "\n",
       "    walking_co2_emissions  walking_hours  public_transport_co2_emissions  \\\n",
       "0                       0              3                            43.0   \n",
       "1                       0             68                           184.9   \n",
       "2                       0             65                           335.4   \n",
       "3                       0             71                           146.2   \n",
       "4                       0            100                            86.0   \n",
       "5                       0            101                            94.6   \n",
       "6                       0             30                           645.0   \n",
       "7                       0            111                           361.2   \n",
       "8                       0            200                             0.0   \n",
       "9                       0             85                             0.0   \n",
       "10                      0            150                           215.0   \n",
       "11                      0            100                            86.0   \n",
       "12                      0             68                           610.6   \n",
       "13                      0             74                           227.9   \n",
       "14                      0             10                           215.0   \n",
       "15                      0             76                           227.9   \n",
       "\n",
       "    public_transport_hours  tv_hour         food  transportation  electronic  \n",
       "0                       10      NaN   937.756101          1018.0      1036.4  \n",
       "1                       43      NaN   723.252444           672.4      1030.8  \n",
       "2                       78      NaN   448.148896           881.4      1015.0  \n",
       "3                       34      NaN   440.800706           276.2       641.8  \n",
       "4                       20      NaN   524.896662           281.0      1040.2  \n",
       "5                       22      NaN   524.896662           601.6       890.0  \n",
       "6                      150      NaN  1088.620800          1620.0       790.4  \n",
       "7                       84      NaN   621.647836           647.2      1095.0  \n",
       "8                        0      NaN   426.331121            78.0       953.6  \n",
       "9                        0      NaN    65.544044           390.0       730.0  \n",
       "10                      50      NaN   850.439641           215.0       919.8  \n",
       "11                      20      NaN   499.858384           281.0       989.0  \n",
       "12                     142      1.0   530.884077           662.6       667.4  \n",
       "13                      53      NaN   532.018057           474.9       903.6  \n",
       "14                      50      NaN   693.950401           540.0       949.2  \n",
       "15                      53      NaN   524.896662           585.4       590.0  \n",
       "\n",
       "[16 rows x 31 columns]"
      ]
     },
     "execution_count": 105,
     "metadata": {},
     "output_type": "execute_result"
    }
   ],
   "source": [
    "\n",
    "# Make into constant variable to avoid having to append to each column name\n",
    "APPEND_CO2_LABEL = \"_co2_emissions\"\n",
    "\n",
    "# Specify labels to include in totals; makes it more dynamic\n",
    "CATEGORIES = {\"food\": [\"red_meat\", \"grains\", \"dairy\"], \"transportation\": [\"car\", \"walking\", \"public_transport\"], \"electronic\": [\"cellphone\", \"tv\", \"computer\"]}\n",
    "\n",
    "# Use combination of basic Python tricks and Pandas to get totals\n",
    "for group, arr in CATEGORIES.items():\n",
    "    arr = [x + APPEND_CO2_LABEL for x in arr]\n",
    "    df[group] = df[arr].sum(axis=1)\n",
    "\n",
    "# View Data output to confirm\n",
    "df"
   ]
  },
  {
   "attachments": {},
   "cell_type": "markdown",
   "metadata": {},
   "source": [
    "### Create Department Bar Chart"
   ]
  },
  {
   "cell_type": "code",
   "execution_count": 106,
   "metadata": {},
   "outputs": [
    {
     "data": {
      "application/vnd.plotly.v1+json": {
       "config": {
        "plotlyServerURL": "https://plot.ly"
       },
       "data": [
        {
         "alignmentgroup": "True",
         "hovertemplate": "Category=food<br>Engineering Department=%{x}<br>CO2 Emissions=%{y}<extra></extra>",
         "legendgroup": "food",
         "marker": {
          "color": "#636efa",
          "pattern": {
           "shape": ""
          }
         },
         "name": "food",
         "offsetgroup": "food",
         "orientation": "v",
         "showlegend": true,
         "textposition": "auto",
         "type": "bar",
         "x": [
          "software",
          "software",
          "electrical",
          "mechanical",
          "mechanical",
          "mechanical",
          "mechanical",
          "electrical",
          "chemical",
          "software",
          "civil",
          "mechanical",
          "mechanical",
          "mechanical",
          "electrical",
          "software"
         ],
         "xaxis": "x",
         "y": [
          937.7561008,
          723.252444,
          448.14889600000004,
          440.8007056,
          524.8966624,
          524.8966624,
          1088.6208,
          621.647836,
          426.3311208,
          65.544044,
          850.4396408,
          499.85838400000006,
          530.8840768,
          532.0180568,
          693.9504008,
          524.8966624
         ],
         "yaxis": "y"
        },
        {
         "alignmentgroup": "True",
         "hovertemplate": "Category=transportation<br>Engineering Department=%{x}<br>CO2 Emissions=%{y}<extra></extra>",
         "legendgroup": "transportation",
         "marker": {
          "color": "#EF553B",
          "pattern": {
           "shape": ""
          }
         },
         "name": "transportation",
         "offsetgroup": "transportation",
         "orientation": "v",
         "showlegend": true,
         "textposition": "auto",
         "type": "bar",
         "x": [
          "software",
          "software",
          "electrical",
          "mechanical",
          "mechanical",
          "mechanical",
          "mechanical",
          "electrical",
          "chemical",
          "software",
          "civil",
          "mechanical",
          "mechanical",
          "mechanical",
          "electrical",
          "software"
         ],
         "xaxis": "x",
         "y": [
          1018,
          672.4,
          881.4,
          276.2,
          281,
          601.6,
          1620,
          647.2,
          78,
          390,
          215,
          281,
          662.6,
          474.9,
          540,
          585.4
         ],
         "yaxis": "y"
        },
        {
         "alignmentgroup": "True",
         "hovertemplate": "Category=electronic<br>Engineering Department=%{x}<br>CO2 Emissions=%{y}<extra></extra>",
         "legendgroup": "electronic",
         "marker": {
          "color": "#00cc96",
          "pattern": {
           "shape": ""
          }
         },
         "name": "electronic",
         "offsetgroup": "electronic",
         "orientation": "v",
         "showlegend": true,
         "textposition": "auto",
         "type": "bar",
         "x": [
          "software",
          "software",
          "electrical",
          "mechanical",
          "mechanical",
          "mechanical",
          "mechanical",
          "electrical",
          "chemical",
          "software",
          "civil",
          "mechanical",
          "mechanical",
          "mechanical",
          "electrical",
          "software"
         ],
         "xaxis": "x",
         "y": [
          1036.4,
          1030.8000000000002,
          1015,
          641.8,
          1040.2,
          890,
          790.4000000000001,
          1095,
          953.5999999999999,
          730,
          919.8,
          989,
          667.4000000000001,
          903.6,
          949.2,
          590
         ],
         "yaxis": "y"
        }
       ],
       "layout": {
        "barmode": "relative",
        "legend": {
         "title": {
          "text": "Category"
         },
         "tracegroupgap": 0
        },
        "template": {
         "data": {
          "bar": [
           {
            "error_x": {
             "color": "#2a3f5f"
            },
            "error_y": {
             "color": "#2a3f5f"
            },
            "marker": {
             "line": {
              "color": "#E5ECF6",
              "width": 0.5
             },
             "pattern": {
              "fillmode": "overlay",
              "size": 10,
              "solidity": 0.2
             }
            },
            "type": "bar"
           }
          ],
          "barpolar": [
           {
            "marker": {
             "line": {
              "color": "#E5ECF6",
              "width": 0.5
             },
             "pattern": {
              "fillmode": "overlay",
              "size": 10,
              "solidity": 0.2
             }
            },
            "type": "barpolar"
           }
          ],
          "carpet": [
           {
            "aaxis": {
             "endlinecolor": "#2a3f5f",
             "gridcolor": "white",
             "linecolor": "white",
             "minorgridcolor": "white",
             "startlinecolor": "#2a3f5f"
            },
            "baxis": {
             "endlinecolor": "#2a3f5f",
             "gridcolor": "white",
             "linecolor": "white",
             "minorgridcolor": "white",
             "startlinecolor": "#2a3f5f"
            },
            "type": "carpet"
           }
          ],
          "choropleth": [
           {
            "colorbar": {
             "outlinewidth": 0,
             "ticks": ""
            },
            "type": "choropleth"
           }
          ],
          "contour": [
           {
            "colorbar": {
             "outlinewidth": 0,
             "ticks": ""
            },
            "colorscale": [
             [
              0,
              "#0d0887"
             ],
             [
              0.1111111111111111,
              "#46039f"
             ],
             [
              0.2222222222222222,
              "#7201a8"
             ],
             [
              0.3333333333333333,
              "#9c179e"
             ],
             [
              0.4444444444444444,
              "#bd3786"
             ],
             [
              0.5555555555555556,
              "#d8576b"
             ],
             [
              0.6666666666666666,
              "#ed7953"
             ],
             [
              0.7777777777777778,
              "#fb9f3a"
             ],
             [
              0.8888888888888888,
              "#fdca26"
             ],
             [
              1,
              "#f0f921"
             ]
            ],
            "type": "contour"
           }
          ],
          "contourcarpet": [
           {
            "colorbar": {
             "outlinewidth": 0,
             "ticks": ""
            },
            "type": "contourcarpet"
           }
          ],
          "heatmap": [
           {
            "colorbar": {
             "outlinewidth": 0,
             "ticks": ""
            },
            "colorscale": [
             [
              0,
              "#0d0887"
             ],
             [
              0.1111111111111111,
              "#46039f"
             ],
             [
              0.2222222222222222,
              "#7201a8"
             ],
             [
              0.3333333333333333,
              "#9c179e"
             ],
             [
              0.4444444444444444,
              "#bd3786"
             ],
             [
              0.5555555555555556,
              "#d8576b"
             ],
             [
              0.6666666666666666,
              "#ed7953"
             ],
             [
              0.7777777777777778,
              "#fb9f3a"
             ],
             [
              0.8888888888888888,
              "#fdca26"
             ],
             [
              1,
              "#f0f921"
             ]
            ],
            "type": "heatmap"
           }
          ],
          "heatmapgl": [
           {
            "colorbar": {
             "outlinewidth": 0,
             "ticks": ""
            },
            "colorscale": [
             [
              0,
              "#0d0887"
             ],
             [
              0.1111111111111111,
              "#46039f"
             ],
             [
              0.2222222222222222,
              "#7201a8"
             ],
             [
              0.3333333333333333,
              "#9c179e"
             ],
             [
              0.4444444444444444,
              "#bd3786"
             ],
             [
              0.5555555555555556,
              "#d8576b"
             ],
             [
              0.6666666666666666,
              "#ed7953"
             ],
             [
              0.7777777777777778,
              "#fb9f3a"
             ],
             [
              0.8888888888888888,
              "#fdca26"
             ],
             [
              1,
              "#f0f921"
             ]
            ],
            "type": "heatmapgl"
           }
          ],
          "histogram": [
           {
            "marker": {
             "pattern": {
              "fillmode": "overlay",
              "size": 10,
              "solidity": 0.2
             }
            },
            "type": "histogram"
           }
          ],
          "histogram2d": [
           {
            "colorbar": {
             "outlinewidth": 0,
             "ticks": ""
            },
            "colorscale": [
             [
              0,
              "#0d0887"
             ],
             [
              0.1111111111111111,
              "#46039f"
             ],
             [
              0.2222222222222222,
              "#7201a8"
             ],
             [
              0.3333333333333333,
              "#9c179e"
             ],
             [
              0.4444444444444444,
              "#bd3786"
             ],
             [
              0.5555555555555556,
              "#d8576b"
             ],
             [
              0.6666666666666666,
              "#ed7953"
             ],
             [
              0.7777777777777778,
              "#fb9f3a"
             ],
             [
              0.8888888888888888,
              "#fdca26"
             ],
             [
              1,
              "#f0f921"
             ]
            ],
            "type": "histogram2d"
           }
          ],
          "histogram2dcontour": [
           {
            "colorbar": {
             "outlinewidth": 0,
             "ticks": ""
            },
            "colorscale": [
             [
              0,
              "#0d0887"
             ],
             [
              0.1111111111111111,
              "#46039f"
             ],
             [
              0.2222222222222222,
              "#7201a8"
             ],
             [
              0.3333333333333333,
              "#9c179e"
             ],
             [
              0.4444444444444444,
              "#bd3786"
             ],
             [
              0.5555555555555556,
              "#d8576b"
             ],
             [
              0.6666666666666666,
              "#ed7953"
             ],
             [
              0.7777777777777778,
              "#fb9f3a"
             ],
             [
              0.8888888888888888,
              "#fdca26"
             ],
             [
              1,
              "#f0f921"
             ]
            ],
            "type": "histogram2dcontour"
           }
          ],
          "mesh3d": [
           {
            "colorbar": {
             "outlinewidth": 0,
             "ticks": ""
            },
            "type": "mesh3d"
           }
          ],
          "parcoords": [
           {
            "line": {
             "colorbar": {
              "outlinewidth": 0,
              "ticks": ""
             }
            },
            "type": "parcoords"
           }
          ],
          "pie": [
           {
            "automargin": true,
            "type": "pie"
           }
          ],
          "scatter": [
           {
            "fillpattern": {
             "fillmode": "overlay",
             "size": 10,
             "solidity": 0.2
            },
            "type": "scatter"
           }
          ],
          "scatter3d": [
           {
            "line": {
             "colorbar": {
              "outlinewidth": 0,
              "ticks": ""
             }
            },
            "marker": {
             "colorbar": {
              "outlinewidth": 0,
              "ticks": ""
             }
            },
            "type": "scatter3d"
           }
          ],
          "scattercarpet": [
           {
            "marker": {
             "colorbar": {
              "outlinewidth": 0,
              "ticks": ""
             }
            },
            "type": "scattercarpet"
           }
          ],
          "scattergeo": [
           {
            "marker": {
             "colorbar": {
              "outlinewidth": 0,
              "ticks": ""
             }
            },
            "type": "scattergeo"
           }
          ],
          "scattergl": [
           {
            "marker": {
             "colorbar": {
              "outlinewidth": 0,
              "ticks": ""
             }
            },
            "type": "scattergl"
           }
          ],
          "scattermapbox": [
           {
            "marker": {
             "colorbar": {
              "outlinewidth": 0,
              "ticks": ""
             }
            },
            "type": "scattermapbox"
           }
          ],
          "scatterpolar": [
           {
            "marker": {
             "colorbar": {
              "outlinewidth": 0,
              "ticks": ""
             }
            },
            "type": "scatterpolar"
           }
          ],
          "scatterpolargl": [
           {
            "marker": {
             "colorbar": {
              "outlinewidth": 0,
              "ticks": ""
             }
            },
            "type": "scatterpolargl"
           }
          ],
          "scatterternary": [
           {
            "marker": {
             "colorbar": {
              "outlinewidth": 0,
              "ticks": ""
             }
            },
            "type": "scatterternary"
           }
          ],
          "surface": [
           {
            "colorbar": {
             "outlinewidth": 0,
             "ticks": ""
            },
            "colorscale": [
             [
              0,
              "#0d0887"
             ],
             [
              0.1111111111111111,
              "#46039f"
             ],
             [
              0.2222222222222222,
              "#7201a8"
             ],
             [
              0.3333333333333333,
              "#9c179e"
             ],
             [
              0.4444444444444444,
              "#bd3786"
             ],
             [
              0.5555555555555556,
              "#d8576b"
             ],
             [
              0.6666666666666666,
              "#ed7953"
             ],
             [
              0.7777777777777778,
              "#fb9f3a"
             ],
             [
              0.8888888888888888,
              "#fdca26"
             ],
             [
              1,
              "#f0f921"
             ]
            ],
            "type": "surface"
           }
          ],
          "table": [
           {
            "cells": {
             "fill": {
              "color": "#EBF0F8"
             },
             "line": {
              "color": "white"
             }
            },
            "header": {
             "fill": {
              "color": "#C8D4E3"
             },
             "line": {
              "color": "white"
             }
            },
            "type": "table"
           }
          ]
         },
         "layout": {
          "annotationdefaults": {
           "arrowcolor": "#2a3f5f",
           "arrowhead": 0,
           "arrowwidth": 1
          },
          "autotypenumbers": "strict",
          "coloraxis": {
           "colorbar": {
            "outlinewidth": 0,
            "ticks": ""
           }
          },
          "colorscale": {
           "diverging": [
            [
             0,
             "#8e0152"
            ],
            [
             0.1,
             "#c51b7d"
            ],
            [
             0.2,
             "#de77ae"
            ],
            [
             0.3,
             "#f1b6da"
            ],
            [
             0.4,
             "#fde0ef"
            ],
            [
             0.5,
             "#f7f7f7"
            ],
            [
             0.6,
             "#e6f5d0"
            ],
            [
             0.7,
             "#b8e186"
            ],
            [
             0.8,
             "#7fbc41"
            ],
            [
             0.9,
             "#4d9221"
            ],
            [
             1,
             "#276419"
            ]
           ],
           "sequential": [
            [
             0,
             "#0d0887"
            ],
            [
             0.1111111111111111,
             "#46039f"
            ],
            [
             0.2222222222222222,
             "#7201a8"
            ],
            [
             0.3333333333333333,
             "#9c179e"
            ],
            [
             0.4444444444444444,
             "#bd3786"
            ],
            [
             0.5555555555555556,
             "#d8576b"
            ],
            [
             0.6666666666666666,
             "#ed7953"
            ],
            [
             0.7777777777777778,
             "#fb9f3a"
            ],
            [
             0.8888888888888888,
             "#fdca26"
            ],
            [
             1,
             "#f0f921"
            ]
           ],
           "sequentialminus": [
            [
             0,
             "#0d0887"
            ],
            [
             0.1111111111111111,
             "#46039f"
            ],
            [
             0.2222222222222222,
             "#7201a8"
            ],
            [
             0.3333333333333333,
             "#9c179e"
            ],
            [
             0.4444444444444444,
             "#bd3786"
            ],
            [
             0.5555555555555556,
             "#d8576b"
            ],
            [
             0.6666666666666666,
             "#ed7953"
            ],
            [
             0.7777777777777778,
             "#fb9f3a"
            ],
            [
             0.8888888888888888,
             "#fdca26"
            ],
            [
             1,
             "#f0f921"
            ]
           ]
          },
          "colorway": [
           "#636efa",
           "#EF553B",
           "#00cc96",
           "#ab63fa",
           "#FFA15A",
           "#19d3f3",
           "#FF6692",
           "#B6E880",
           "#FF97FF",
           "#FECB52"
          ],
          "font": {
           "color": "#2a3f5f"
          },
          "geo": {
           "bgcolor": "white",
           "lakecolor": "white",
           "landcolor": "#E5ECF6",
           "showlakes": true,
           "showland": true,
           "subunitcolor": "white"
          },
          "hoverlabel": {
           "align": "left"
          },
          "hovermode": "closest",
          "mapbox": {
           "style": "light"
          },
          "paper_bgcolor": "white",
          "plot_bgcolor": "#E5ECF6",
          "polar": {
           "angularaxis": {
            "gridcolor": "white",
            "linecolor": "white",
            "ticks": ""
           },
           "bgcolor": "#E5ECF6",
           "radialaxis": {
            "gridcolor": "white",
            "linecolor": "white",
            "ticks": ""
           }
          },
          "scene": {
           "xaxis": {
            "backgroundcolor": "#E5ECF6",
            "gridcolor": "white",
            "gridwidth": 2,
            "linecolor": "white",
            "showbackground": true,
            "ticks": "",
            "zerolinecolor": "white"
           },
           "yaxis": {
            "backgroundcolor": "#E5ECF6",
            "gridcolor": "white",
            "gridwidth": 2,
            "linecolor": "white",
            "showbackground": true,
            "ticks": "",
            "zerolinecolor": "white"
           },
           "zaxis": {
            "backgroundcolor": "#E5ECF6",
            "gridcolor": "white",
            "gridwidth": 2,
            "linecolor": "white",
            "showbackground": true,
            "ticks": "",
            "zerolinecolor": "white"
           }
          },
          "shapedefaults": {
           "line": {
            "color": "#2a3f5f"
           }
          },
          "ternary": {
           "aaxis": {
            "gridcolor": "white",
            "linecolor": "white",
            "ticks": ""
           },
           "baxis": {
            "gridcolor": "white",
            "linecolor": "white",
            "ticks": ""
           },
           "bgcolor": "#E5ECF6",
           "caxis": {
            "gridcolor": "white",
            "linecolor": "white",
            "ticks": ""
           }
          },
          "title": {
           "x": 0.05
          },
          "xaxis": {
           "automargin": true,
           "gridcolor": "white",
           "linecolor": "white",
           "ticks": "",
           "title": {
            "standoff": 15
           },
           "zerolinecolor": "white",
           "zerolinewidth": 2
          },
          "yaxis": {
           "automargin": true,
           "gridcolor": "white",
           "linecolor": "white",
           "ticks": "",
           "title": {
            "standoff": 15
           },
           "zerolinecolor": "white",
           "zerolinewidth": 2
          }
         }
        },
        "title": {
         "text": "Emissions Data by Department"
        },
        "xaxis": {
         "anchor": "y",
         "categoryorder": "total ascending",
         "domain": [
          0,
          1
         ],
         "title": {
          "text": "Engineering Department"
         }
        },
        "yaxis": {
         "anchor": "x",
         "domain": [
          0,
          1
         ],
         "title": {
          "text": "CO2 Emissions"
         }
        }
       }
      }
     },
     "metadata": {},
     "output_type": "display_data"
    }
   ],
   "source": [
    "# Create stacked chart with values divided up by discipline and category\n",
    "fig = px.bar(df, x=\"discipline\", \n",
    "                 y=[\"food\", \"transportation\", \"electronic\"], \n",
    "                 title=\"Emissions Data by Department\",\n",
    "                 labels={\n",
    "                     \"discipline\": \"Engineering Department\",\n",
    "                     \"value\": \"CO2 Emissions\",\n",
    "                     \"variable\": \"Category\",\n",
    "                 },)\n",
    "\n",
    "# Make ascending order\n",
    "fig.update_xaxes(categoryorder=\"total ascending\")\n",
    "fig.show()"
   ]
  },
  {
   "attachments": {},
   "cell_type": "markdown",
   "metadata": {},
   "source": [
    "### Filter Data Further"
   ]
  },
  {
   "cell_type": "code",
   "execution_count": 107,
   "metadata": {},
   "outputs": [],
   "source": [
    "# Filter down to just the category columns and get their sums\n",
    "df = df[list(CATEGORIES.keys())]\n",
    "df = df.sum()"
   ]
  },
  {
   "attachments": {},
   "cell_type": "markdown",
   "metadata": {},
   "source": [
    "### Create Category Bar Chart"
   ]
  },
  {
   "cell_type": "code",
   "execution_count": 108,
   "metadata": {},
   "outputs": [
    {
     "data": {
      "application/vnd.plotly.v1+json": {
       "config": {
        "plotlyServerURL": "https://plot.ly"
       },
       "data": [
        {
         "alignmentgroup": "True",
         "hovertemplate": "Category=%{x}<br>CO2 Emissions=%{y}<extra></extra>",
         "legendgroup": "",
         "marker": {
          "color": "#636efa",
          "pattern": {
           "shape": ""
          }
         },
         "name": "",
         "offsetgroup": "",
         "orientation": "v",
         "showlegend": false,
         "textposition": "auto",
         "type": "bar",
         "x": [
          "food",
          "transportation",
          "electronic"
         ],
         "xaxis": "x",
         "y": [
          9433.9424936,
          9224.7,
          14242.2
         ],
         "yaxis": "y"
        }
       ],
       "layout": {
        "barmode": "relative",
        "legend": {
         "tracegroupgap": 0
        },
        "template": {
         "data": {
          "bar": [
           {
            "error_x": {
             "color": "#2a3f5f"
            },
            "error_y": {
             "color": "#2a3f5f"
            },
            "marker": {
             "line": {
              "color": "#E5ECF6",
              "width": 0.5
             },
             "pattern": {
              "fillmode": "overlay",
              "size": 10,
              "solidity": 0.2
             }
            },
            "type": "bar"
           }
          ],
          "barpolar": [
           {
            "marker": {
             "line": {
              "color": "#E5ECF6",
              "width": 0.5
             },
             "pattern": {
              "fillmode": "overlay",
              "size": 10,
              "solidity": 0.2
             }
            },
            "type": "barpolar"
           }
          ],
          "carpet": [
           {
            "aaxis": {
             "endlinecolor": "#2a3f5f",
             "gridcolor": "white",
             "linecolor": "white",
             "minorgridcolor": "white",
             "startlinecolor": "#2a3f5f"
            },
            "baxis": {
             "endlinecolor": "#2a3f5f",
             "gridcolor": "white",
             "linecolor": "white",
             "minorgridcolor": "white",
             "startlinecolor": "#2a3f5f"
            },
            "type": "carpet"
           }
          ],
          "choropleth": [
           {
            "colorbar": {
             "outlinewidth": 0,
             "ticks": ""
            },
            "type": "choropleth"
           }
          ],
          "contour": [
           {
            "colorbar": {
             "outlinewidth": 0,
             "ticks": ""
            },
            "colorscale": [
             [
              0,
              "#0d0887"
             ],
             [
              0.1111111111111111,
              "#46039f"
             ],
             [
              0.2222222222222222,
              "#7201a8"
             ],
             [
              0.3333333333333333,
              "#9c179e"
             ],
             [
              0.4444444444444444,
              "#bd3786"
             ],
             [
              0.5555555555555556,
              "#d8576b"
             ],
             [
              0.6666666666666666,
              "#ed7953"
             ],
             [
              0.7777777777777778,
              "#fb9f3a"
             ],
             [
              0.8888888888888888,
              "#fdca26"
             ],
             [
              1,
              "#f0f921"
             ]
            ],
            "type": "contour"
           }
          ],
          "contourcarpet": [
           {
            "colorbar": {
             "outlinewidth": 0,
             "ticks": ""
            },
            "type": "contourcarpet"
           }
          ],
          "heatmap": [
           {
            "colorbar": {
             "outlinewidth": 0,
             "ticks": ""
            },
            "colorscale": [
             [
              0,
              "#0d0887"
             ],
             [
              0.1111111111111111,
              "#46039f"
             ],
             [
              0.2222222222222222,
              "#7201a8"
             ],
             [
              0.3333333333333333,
              "#9c179e"
             ],
             [
              0.4444444444444444,
              "#bd3786"
             ],
             [
              0.5555555555555556,
              "#d8576b"
             ],
             [
              0.6666666666666666,
              "#ed7953"
             ],
             [
              0.7777777777777778,
              "#fb9f3a"
             ],
             [
              0.8888888888888888,
              "#fdca26"
             ],
             [
              1,
              "#f0f921"
             ]
            ],
            "type": "heatmap"
           }
          ],
          "heatmapgl": [
           {
            "colorbar": {
             "outlinewidth": 0,
             "ticks": ""
            },
            "colorscale": [
             [
              0,
              "#0d0887"
             ],
             [
              0.1111111111111111,
              "#46039f"
             ],
             [
              0.2222222222222222,
              "#7201a8"
             ],
             [
              0.3333333333333333,
              "#9c179e"
             ],
             [
              0.4444444444444444,
              "#bd3786"
             ],
             [
              0.5555555555555556,
              "#d8576b"
             ],
             [
              0.6666666666666666,
              "#ed7953"
             ],
             [
              0.7777777777777778,
              "#fb9f3a"
             ],
             [
              0.8888888888888888,
              "#fdca26"
             ],
             [
              1,
              "#f0f921"
             ]
            ],
            "type": "heatmapgl"
           }
          ],
          "histogram": [
           {
            "marker": {
             "pattern": {
              "fillmode": "overlay",
              "size": 10,
              "solidity": 0.2
             }
            },
            "type": "histogram"
           }
          ],
          "histogram2d": [
           {
            "colorbar": {
             "outlinewidth": 0,
             "ticks": ""
            },
            "colorscale": [
             [
              0,
              "#0d0887"
             ],
             [
              0.1111111111111111,
              "#46039f"
             ],
             [
              0.2222222222222222,
              "#7201a8"
             ],
             [
              0.3333333333333333,
              "#9c179e"
             ],
             [
              0.4444444444444444,
              "#bd3786"
             ],
             [
              0.5555555555555556,
              "#d8576b"
             ],
             [
              0.6666666666666666,
              "#ed7953"
             ],
             [
              0.7777777777777778,
              "#fb9f3a"
             ],
             [
              0.8888888888888888,
              "#fdca26"
             ],
             [
              1,
              "#f0f921"
             ]
            ],
            "type": "histogram2d"
           }
          ],
          "histogram2dcontour": [
           {
            "colorbar": {
             "outlinewidth": 0,
             "ticks": ""
            },
            "colorscale": [
             [
              0,
              "#0d0887"
             ],
             [
              0.1111111111111111,
              "#46039f"
             ],
             [
              0.2222222222222222,
              "#7201a8"
             ],
             [
              0.3333333333333333,
              "#9c179e"
             ],
             [
              0.4444444444444444,
              "#bd3786"
             ],
             [
              0.5555555555555556,
              "#d8576b"
             ],
             [
              0.6666666666666666,
              "#ed7953"
             ],
             [
              0.7777777777777778,
              "#fb9f3a"
             ],
             [
              0.8888888888888888,
              "#fdca26"
             ],
             [
              1,
              "#f0f921"
             ]
            ],
            "type": "histogram2dcontour"
           }
          ],
          "mesh3d": [
           {
            "colorbar": {
             "outlinewidth": 0,
             "ticks": ""
            },
            "type": "mesh3d"
           }
          ],
          "parcoords": [
           {
            "line": {
             "colorbar": {
              "outlinewidth": 0,
              "ticks": ""
             }
            },
            "type": "parcoords"
           }
          ],
          "pie": [
           {
            "automargin": true,
            "type": "pie"
           }
          ],
          "scatter": [
           {
            "fillpattern": {
             "fillmode": "overlay",
             "size": 10,
             "solidity": 0.2
            },
            "type": "scatter"
           }
          ],
          "scatter3d": [
           {
            "line": {
             "colorbar": {
              "outlinewidth": 0,
              "ticks": ""
             }
            },
            "marker": {
             "colorbar": {
              "outlinewidth": 0,
              "ticks": ""
             }
            },
            "type": "scatter3d"
           }
          ],
          "scattercarpet": [
           {
            "marker": {
             "colorbar": {
              "outlinewidth": 0,
              "ticks": ""
             }
            },
            "type": "scattercarpet"
           }
          ],
          "scattergeo": [
           {
            "marker": {
             "colorbar": {
              "outlinewidth": 0,
              "ticks": ""
             }
            },
            "type": "scattergeo"
           }
          ],
          "scattergl": [
           {
            "marker": {
             "colorbar": {
              "outlinewidth": 0,
              "ticks": ""
             }
            },
            "type": "scattergl"
           }
          ],
          "scattermapbox": [
           {
            "marker": {
             "colorbar": {
              "outlinewidth": 0,
              "ticks": ""
             }
            },
            "type": "scattermapbox"
           }
          ],
          "scatterpolar": [
           {
            "marker": {
             "colorbar": {
              "outlinewidth": 0,
              "ticks": ""
             }
            },
            "type": "scatterpolar"
           }
          ],
          "scatterpolargl": [
           {
            "marker": {
             "colorbar": {
              "outlinewidth": 0,
              "ticks": ""
             }
            },
            "type": "scatterpolargl"
           }
          ],
          "scatterternary": [
           {
            "marker": {
             "colorbar": {
              "outlinewidth": 0,
              "ticks": ""
             }
            },
            "type": "scatterternary"
           }
          ],
          "surface": [
           {
            "colorbar": {
             "outlinewidth": 0,
             "ticks": ""
            },
            "colorscale": [
             [
              0,
              "#0d0887"
             ],
             [
              0.1111111111111111,
              "#46039f"
             ],
             [
              0.2222222222222222,
              "#7201a8"
             ],
             [
              0.3333333333333333,
              "#9c179e"
             ],
             [
              0.4444444444444444,
              "#bd3786"
             ],
             [
              0.5555555555555556,
              "#d8576b"
             ],
             [
              0.6666666666666666,
              "#ed7953"
             ],
             [
              0.7777777777777778,
              "#fb9f3a"
             ],
             [
              0.8888888888888888,
              "#fdca26"
             ],
             [
              1,
              "#f0f921"
             ]
            ],
            "type": "surface"
           }
          ],
          "table": [
           {
            "cells": {
             "fill": {
              "color": "#EBF0F8"
             },
             "line": {
              "color": "white"
             }
            },
            "header": {
             "fill": {
              "color": "#C8D4E3"
             },
             "line": {
              "color": "white"
             }
            },
            "type": "table"
           }
          ]
         },
         "layout": {
          "annotationdefaults": {
           "arrowcolor": "#2a3f5f",
           "arrowhead": 0,
           "arrowwidth": 1
          },
          "autotypenumbers": "strict",
          "coloraxis": {
           "colorbar": {
            "outlinewidth": 0,
            "ticks": ""
           }
          },
          "colorscale": {
           "diverging": [
            [
             0,
             "#8e0152"
            ],
            [
             0.1,
             "#c51b7d"
            ],
            [
             0.2,
             "#de77ae"
            ],
            [
             0.3,
             "#f1b6da"
            ],
            [
             0.4,
             "#fde0ef"
            ],
            [
             0.5,
             "#f7f7f7"
            ],
            [
             0.6,
             "#e6f5d0"
            ],
            [
             0.7,
             "#b8e186"
            ],
            [
             0.8,
             "#7fbc41"
            ],
            [
             0.9,
             "#4d9221"
            ],
            [
             1,
             "#276419"
            ]
           ],
           "sequential": [
            [
             0,
             "#0d0887"
            ],
            [
             0.1111111111111111,
             "#46039f"
            ],
            [
             0.2222222222222222,
             "#7201a8"
            ],
            [
             0.3333333333333333,
             "#9c179e"
            ],
            [
             0.4444444444444444,
             "#bd3786"
            ],
            [
             0.5555555555555556,
             "#d8576b"
            ],
            [
             0.6666666666666666,
             "#ed7953"
            ],
            [
             0.7777777777777778,
             "#fb9f3a"
            ],
            [
             0.8888888888888888,
             "#fdca26"
            ],
            [
             1,
             "#f0f921"
            ]
           ],
           "sequentialminus": [
            [
             0,
             "#0d0887"
            ],
            [
             0.1111111111111111,
             "#46039f"
            ],
            [
             0.2222222222222222,
             "#7201a8"
            ],
            [
             0.3333333333333333,
             "#9c179e"
            ],
            [
             0.4444444444444444,
             "#bd3786"
            ],
            [
             0.5555555555555556,
             "#d8576b"
            ],
            [
             0.6666666666666666,
             "#ed7953"
            ],
            [
             0.7777777777777778,
             "#fb9f3a"
            ],
            [
             0.8888888888888888,
             "#fdca26"
            ],
            [
             1,
             "#f0f921"
            ]
           ]
          },
          "colorway": [
           "#636efa",
           "#EF553B",
           "#00cc96",
           "#ab63fa",
           "#FFA15A",
           "#19d3f3",
           "#FF6692",
           "#B6E880",
           "#FF97FF",
           "#FECB52"
          ],
          "font": {
           "color": "#2a3f5f"
          },
          "geo": {
           "bgcolor": "white",
           "lakecolor": "white",
           "landcolor": "#E5ECF6",
           "showlakes": true,
           "showland": true,
           "subunitcolor": "white"
          },
          "hoverlabel": {
           "align": "left"
          },
          "hovermode": "closest",
          "mapbox": {
           "style": "light"
          },
          "paper_bgcolor": "white",
          "plot_bgcolor": "#E5ECF6",
          "polar": {
           "angularaxis": {
            "gridcolor": "white",
            "linecolor": "white",
            "ticks": ""
           },
           "bgcolor": "#E5ECF6",
           "radialaxis": {
            "gridcolor": "white",
            "linecolor": "white",
            "ticks": ""
           }
          },
          "scene": {
           "xaxis": {
            "backgroundcolor": "#E5ECF6",
            "gridcolor": "white",
            "gridwidth": 2,
            "linecolor": "white",
            "showbackground": true,
            "ticks": "",
            "zerolinecolor": "white"
           },
           "yaxis": {
            "backgroundcolor": "#E5ECF6",
            "gridcolor": "white",
            "gridwidth": 2,
            "linecolor": "white",
            "showbackground": true,
            "ticks": "",
            "zerolinecolor": "white"
           },
           "zaxis": {
            "backgroundcolor": "#E5ECF6",
            "gridcolor": "white",
            "gridwidth": 2,
            "linecolor": "white",
            "showbackground": true,
            "ticks": "",
            "zerolinecolor": "white"
           }
          },
          "shapedefaults": {
           "line": {
            "color": "#2a3f5f"
           }
          },
          "ternary": {
           "aaxis": {
            "gridcolor": "white",
            "linecolor": "white",
            "ticks": ""
           },
           "baxis": {
            "gridcolor": "white",
            "linecolor": "white",
            "ticks": ""
           },
           "bgcolor": "#E5ECF6",
           "caxis": {
            "gridcolor": "white",
            "linecolor": "white",
            "ticks": ""
           }
          },
          "title": {
           "x": 0.05
          },
          "xaxis": {
           "automargin": true,
           "gridcolor": "white",
           "linecolor": "white",
           "ticks": "",
           "title": {
            "standoff": 15
           },
           "zerolinecolor": "white",
           "zerolinewidth": 2
          },
          "yaxis": {
           "automargin": true,
           "gridcolor": "white",
           "linecolor": "white",
           "ticks": "",
           "title": {
            "standoff": 15
           },
           "zerolinecolor": "white",
           "zerolinewidth": 2
          }
         }
        },
        "title": {
         "text": "Emissions Data by Category"
        },
        "xaxis": {
         "anchor": "y",
         "categoryorder": "total ascending",
         "domain": [
          0,
          1
         ],
         "title": {
          "text": "Category"
         }
        },
        "yaxis": {
         "anchor": "x",
         "domain": [
          0,
          1
         ],
         "title": {
          "text": "CO2 Emissions"
         }
        }
       }
      }
     },
     "metadata": {},
     "output_type": "display_data"
    }
   ],
   "source": [
    "# Create stacked chart with values divided up by category\n",
    "fig = px.bar(df, x=list(df.keys()), y=list(df), title=\"Emissions Data by Category\",\n",
    "             labels={\n",
    "                     \"x\": \"Category\",\n",
    "                     \"y\": \"CO2 Emissions\",\n",
    "                 },)\n",
    "\n",
    "# Stack in ascended order\n",
    "fig.update_xaxes(categoryorder=\"total ascending\")\n",
    "fig.show()"
   ]
  }
 ],
 "metadata": {
  "kernelspec": {
   "display_name": "Python 3",
   "language": "python",
   "name": "python3"
  },
  "language_info": {
   "codemirror_mode": {
    "name": "ipython",
    "version": 3
   },
   "file_extension": ".py",
   "mimetype": "text/x-python",
   "name": "python",
   "nbconvert_exporter": "python",
   "pygments_lexer": "ipython3",
   "version": "3.7.9"
  },
  "orig_nbformat": 4,
  "vscode": {
   "interpreter": {
    "hash": "d38678f14c613abdc0d6ce0f4cb1e7e52c233d82e0812f028c5fc8ab0edf1f18"
   }
  }
 },
 "nbformat": 4,
 "nbformat_minor": 2
}
