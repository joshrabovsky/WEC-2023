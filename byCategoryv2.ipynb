{
 "cells": [
  {
   "cell_type": "code",
   "execution_count": 1,
   "metadata": {},
   "outputs": [
    {
     "name": "stdout",
     "output_type": "stream",
     "text": [
      "    Unnamed: 0  address    red_meat           controller      grains action  \\\n",
      "0            0   178373  100 pounds   LocationController    2 pounds    Get   \n",
      "1            1   156354   89 pounds          Controlmite  167 pounds    Get   \n",
      "2            2   919323   26 pounds        ControlPublic   78 pounds    Get   \n",
      "3            3   983575   35 pounds             Controlz   78 pounds    Get   \n",
      "4            4   919325   55 pounds   LocationController   44 pounds    Get   \n",
      "5            5   737234  300 pounds                 Cont    0 pounds    Get   \n",
      "6            6   919324   66 pounds           ControlPub  100 pounds    Get   \n",
      "7            7  1565535   78 pounds          Controlling   36 pounds    Get   \n",
      "8            8   234567    0 pounds  LocationsController    5 pounds    Get   \n",
      "9            9   919323  150 pounds           ControlPub   53 pounds    Get   \n",
      "10          10   919323   60 pounds              Control  100 pounds    Get   \n",
      "11          11  4684352   62 pounds          Controlmite   75 pounds    Get   \n",
      "12          12  4563158   59 pounds            Controlnt   43 pounds    Get   \n",
      "13          13   996563   63 pounds           Controller  107 pounds    Get   \n",
      "14          14   919300   55 pounds           Controlntt   44 pounds    Get   \n",
      "\n",
      "                                endpoint       dairy  cellphone         tv  \\\n",
      "0     (OWL) https://uwo.ca/edge/software  200 pounds   55 hours   43 hours   \n",
      "1     (OWL) https://uwo.ca/edge/software   42 pounds   42 hours   75 hours   \n",
      "2         https://uwo.ca/edge/electrical   78 pounds  100 hours   50 hours   \n",
      "3   (OWL) https://uwo.ca/edge/mechanical   64 pounds   78 hours   50 hours   \n",
      "4         https://uwo.ca/edge/mechanical   88 pounds    0 hours  100 hours   \n",
      "5         https://uwo.ca/edge/mechanical    0 pounds   76 hours   55 hours   \n",
      "6   (OWL) https://uwo.ca/edge/electrical   75 pounds   75 hours   75 hours   \n",
      "7     (OWL) https://uwo.ca/edge/chemical   29 pounds   44 hours   70 hours   \n",
      "8     (OWL) https://uwo.ca/edge/software   20 pounds   50 hours   50 hours   \n",
      "9              https://uwo.ca/edge/civil   76 pounds   44 hours   78 hours   \n",
      "10  (OWL) https://uwo.ca/edge/mechanical   40 pounds   95 hours   55 hours   \n",
      "11  (OWL) https://uwo.ca/edge/mechanical   63 pounds   68 hours     1 hour   \n",
      "12  (OWL) https://uwo.ca/edge/mechanical   86 pounds  124 hours   66 hours   \n",
      "13  (OWL) https://uwo.ca/edge/electrical  100 pounds   40 hours   90 hours   \n",
      "14          https://uwo.ca/edge/software   88 pounds   30 hours   40 hours   \n",
      "\n",
      "    ... items/total red_meat_co2_emissions grains_co2_emissions  \\\n",
      "0   ...         2/1                  800.0                  7.4   \n",
      "1   ...         3/1                  712.0                617.9   \n",
      "2   ...         3/5                  208.0                288.6   \n",
      "3   ...         3/1                  280.0                288.6   \n",
      "4   ...         3/3                  440.0                162.8   \n",
      "5   ...         1/2                 2400.0                  0.0   \n",
      "6   ...         3/5                  528.0                370.0   \n",
      "7   ...         3/1                  624.0                133.2   \n",
      "8   ...         1/1                    0.0                 18.5   \n",
      "9   ...         3/5                 1200.0                196.1   \n",
      "10  ...         3/1                  480.0                370.0   \n",
      "11  ...         3/1                  496.0                277.5   \n",
      "12  ...         3/2                  472.0                159.1   \n",
      "13  ...         3/1                  504.0                395.9   \n",
      "14  ...         3/2                  440.0                162.8   \n",
      "\n",
      "   dairy_co2_emissions cellphone_co2_emissions tv_co2_emissions  \\\n",
      "0               1260.0                   198.0            292.4   \n",
      "1                264.6                   151.2            510.0   \n",
      "2                491.4                   360.0            340.0   \n",
      "3                403.2                   280.8            340.0   \n",
      "4                554.4                     0.0            680.0   \n",
      "5                  0.0                   273.6            374.0   \n",
      "6                472.5                   270.0            510.0   \n",
      "7                182.7                   158.4            476.0   \n",
      "8                126.0                   180.0            340.0   \n",
      "9                478.8                   158.4            530.4   \n",
      "10               252.0                   342.0            374.0   \n",
      "11               396.9                   244.8              6.8   \n",
      "12               541.8                   446.4            448.8   \n",
      "13               630.0                   144.0            612.0   \n",
      "14               554.4                   108.0            272.0   \n",
      "\n",
      "   computer_co2_emissions  car_co2_emissions walking_co2_emissions  \\\n",
      "0                   546.0              975.0                     0   \n",
      "1                   369.6              487.5                     0   \n",
      "2                   315.0              546.0                     0   \n",
      "3                    21.0              130.0                     0   \n",
      "4                   210.0              507.0                     0   \n",
      "5                   142.8              975.0                     0   \n",
      "6                   315.0              286.0                     0   \n",
      "7                   319.2               78.0                     0   \n",
      "8                   210.0              390.0                     0   \n",
      "9                   231.0                0.0                     0   \n",
      "10                  273.0              195.0                     0   \n",
      "11                  415.8               52.0                     0   \n",
      "12                    8.4              247.0                     0   \n",
      "13                  193.2              325.0                     0   \n",
      "14                  210.0              357.5                     0   \n",
      "\n",
      "    public_transport_co2_emissions  \n",
      "0                             43.0  \n",
      "1                            184.9  \n",
      "2                            335.4  \n",
      "3                            146.2  \n",
      "4                             94.6  \n",
      "5                            645.0  \n",
      "6                            361.2  \n",
      "7                              0.0  \n",
      "8                              0.0  \n",
      "9                            215.0  \n",
      "10                            86.0  \n",
      "11                           610.6  \n",
      "12                           227.9  \n",
      "13                           215.0  \n",
      "14                           227.9  \n",
      "\n",
      "[15 rows x 28 columns]\n"
     ]
    }
   ],
   "source": [
    "import pandas as pd\n",
    "\n",
    "df = pd.read_csv('./extraction/emissions.csv')"
   ]
  },
  {
   "cell_type": "code",
   "execution_count": 4,
   "metadata": {},
   "outputs": [
    {
     "data": {
      "text/plain": [
       "'100 pounds89 pounds26 pounds35 pounds55 pounds300 pounds66 pounds78 pounds0 pounds150 pounds60 pounds62 pounds59 pounds63 pounds55 pounds'"
      ]
     },
     "execution_count": 4,
     "metadata": {},
     "output_type": "execute_result"
    }
   ],
   "source": [
    "df.sum()[\"red_meat\"]"
   ]
  }
 ],
 "metadata": {
  "kernelspec": {
   "display_name": "Python 3",
   "language": "python",
   "name": "python3"
  },
  "language_info": {
   "codemirror_mode": {
    "name": "ipython",
    "version": 3
   },
   "file_extension": ".py",
   "mimetype": "text/x-python",
   "name": "python",
   "nbconvert_exporter": "python",
   "pygments_lexer": "ipython3",
   "version": "3.7.9"
  },
  "orig_nbformat": 4,
  "vscode": {
   "interpreter": {
    "hash": "d38678f14c613abdc0d6ce0f4cb1e7e52c233d82e0812f028c5fc8ab0edf1f18"
   }
  }
 },
 "nbformat": 4,
 "nbformat_minor": 2
}
