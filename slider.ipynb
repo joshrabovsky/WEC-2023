{
 "cells": [
  {
   "cell_type": "code",
   "execution_count": 10,
   "metadata": {},
   "outputs": [],
   "source": [
    "import pandas\n",
    "import numpy as np\n",
    "import plotly.graph_objects as go\n",
    "\n",
    "import json\n",
    "\n",
    "with open('../WEC-2023/conversion_table.json') as f:\n",
    "    conversion_table = json.load(f)\n"
   ]
  },
  {
   "attachments": {},
   "cell_type": "markdown",
   "metadata": {},
   "source": [
    "We need to create a balance to calculate the change after each slide"
   ]
  },
  {
   "cell_type": "code",
   "execution_count": 14,
   "metadata": {},
   "outputs": [
    {
     "name": "stdout",
     "output_type": "stream",
     "text": [
      "{'public_transport': 4.3, 'car': 6.5, 'walking': 0, 'red_meat': 8.0, 'dairy': 6.3, 'grains': 3.7, 'phone': 3.6, 'computer': 4.2, 'tv': 6.8}\n"
     ]
    }
   ],
   "source": [
    "def update_emissions (total, difference, selected_category):\n",
    "  # create change amount (CO2 kg)\n",
    "  change_amt = (total - difference) / 7\n",
    "\n",
    "  # we need to take the negative of the change amt\n",
    "  # ie. increased val -> decrease other values\n",
    "  #     decreased val -> increase other values\n",
    "\n",
    "  for key in conversion_table:\n",
    "    # skip over update to selected category\n",
    "    if key == selected_category:\n",
    "      continue\n",
    "    \n",
    "    # calculate the change amount\n",
    "    res = -change_amt * conversion_table[key]\n",
    "\n",
    "    # reflect the change in the graph + other sliders\n",
    "    \n",
    "\n",
    "\n",
    "print(conversion_table)\n"
   ]
  },
  {
   "cell_type": "code",
   "execution_count": 7,
   "metadata": {},
   "outputs": [
    {
     "data": {
      "application/vnd.jupyter.widget-view+json": {
       "model_id": "eb800cce44a440deb96163d6e9abe2ae",
       "version_major": 2,
       "version_minor": 0
      },
      "text/plain": [
       "interactive(children=(FloatSlider(value=0.0, description='x', max=10.0, step=0.05), FloatSlider(value=5.0, des…"
      ]
     },
     "metadata": {},
     "output_type": "display_data"
    }
   ],
   "source": [
    "import ipywidgets as widgets\n",
    "\n",
    "car_widget = widgets.FloatSlider(min=0.5, max=10.0, step=0.05, value=5.0)\n",
    "public_transport_widget = widgets.FloatSlider(min=0.5, max=10.0, step=0.05, value=5.0)\n",
    "red_meat_widget = widgets.FloatSlider(min=0.5, max=10.0, step=0.05, value=5.0)\n",
    "dairy_widget = widgets.FloatSlider(min=0.5, max=10.0, step=0.05, value=5.0)\n",
    "grains_widget = widgets.FloatSlider(min=0.5, max=10.0, step=0.05, value=5.0)\n",
    "phone_widget = widgets.FloatSlider(min=0.5, max=10.0, step=0.05, value=5.0)\n",
    "computer_widget = widgets.FloatSlider(min=0.5, max=10.0, step=0.05, value=5.0)\n",
    "tv_widget = widgets.FloatSlider(min=0.5, max=10.0, step=0.05, value=5.0)\n",
    "\n",
    "\n",
    "def update_x_range(*args):\n",
    "    x_widget.value = 2.0 * y_widget.value\n",
    "    \n",
    "car_widget.observe(update_emissions, 'car')\n",
    "public_transport_widget.observe(update_emissions, 'public_transport')\n",
    "red_meat_widget.observe(update_emissions, 'red_meat')\n",
    "dairy_widget.observe(update_emissions, 'dairy')\n",
    "grains_widget.observe(update_emissions, 'grains')\n",
    "phone_widget.observe(update_emissions, 'phone')\n",
    "computer_widget.observe(update_emissions, 'computer')\n",
    "tv_widget.observe(update_emissions, 'tv')\n",
    "\n",
    "def goal(x, y, c):\n",
    "    print(x, y, c)\n",
    "\n",
    "widgets.interact(printer,x=x_widget, y=y_widget, c=grains_widget);"
   ]
  }
 ],
 "metadata": {
  "kernelspec": {
   "display_name": "Python 3",
   "language": "python",
   "name": "python3"
  },
  "language_info": {
   "codemirror_mode": {
    "name": "ipython",
    "version": 3
   },
   "file_extension": ".py",
   "mimetype": "text/x-python",
   "name": "python",
   "nbconvert_exporter": "python",
   "pygments_lexer": "ipython3",
   "version": "3.9.6"
  },
  "orig_nbformat": 4,
  "vscode": {
   "interpreter": {
    "hash": "31f2aee4e71d21fbe5cf8b01ff0e069b9275f58929596ceb00d14d90e3e16cd6"
   }
  }
 },
 "nbformat": 4,
 "nbformat_minor": 2
}
