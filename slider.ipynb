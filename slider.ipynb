{
 "cells": [
  {
   "cell_type": "code",
   "execution_count": 10,
   "metadata": {},
   "outputs": [],
   "source": [
    "import pandas\n",
    "import numpy as np\n",
    "import plotly.graph_objects as go\n",
    "\n",
    "import json\n",
    "\n",
    "with open('../WEC-2023/extraction/conversion_table.json') as f:\n",
    "    conversion_table = json.load(f)\n"
   ]
  },
  {
   "attachments": {},
   "cell_type": "markdown",
   "metadata": {},
   "source": [
    "We need to create a balance to calculate the change after each slide"
   ]
  },
  {
   "cell_type": "code",
   "execution_count": 9,
   "metadata": {},
   "outputs": [
    {
     "ename": "NameError",
     "evalue": "name 'conversion_table' is not defined",
     "output_type": "error",
     "traceback": [
      "\u001b[0;31m---------------------------------------------------------------------------\u001b[0m",
      "\u001b[0;31mNameError\u001b[0m                                 Traceback (most recent call last)",
      "Cell \u001b[0;32mIn[9], line 21\u001b[0m\n\u001b[1;32m     15\u001b[0m     res \u001b[39m=\u001b[39m \u001b[39m-\u001b[39mchange_amt \u001b[39m*\u001b[39m conversion_table[key]\n\u001b[1;32m     17\u001b[0m     \u001b[39m# reflect the change in the graph + other sliders\u001b[39;00m\n\u001b[0;32m---> 21\u001b[0m \u001b[39mprint\u001b[39m(conversion_table)\n",
      "\u001b[0;31mNameError\u001b[0m: name 'conversion_table' is not defined"
     ]
    }
   ],
   "source": [
    "def update_emissions (total, difference, selected_category):\n",
    "  # create change amount (CO2 kg)\n",
    "  change_amt = (total - difference) / 7\n",
    "\n",
    "  # we need to take the negative of the change amt\n",
    "  # ie. increased val -> decrease other values\n",
    "  #     decreased val -> increase other values\n",
    "\n",
    "  for key in conversion_table:\n",
    "    # skip over update to selected category\n",
    "    if key == selected_category:\n",
    "      continue\n",
    "    \n",
    "    # calculate the change amount\n",
    "    change_value = change['new'] - change['old']\n",
    "    res = -change_amt * conversion_table[key]\n",
    "\n",
    "    # reflect the change in the graph + other sliders\n",
    "\n",
    "  def on_change(change):\n",
    "    if change['name'] == 'value':\n",
    "        total = sum([slider.value for slider in sliders])\n",
    "        change_value = change['new'] - change['old']\n",
    "        print(total + '' + change_value)\n",
    "        # for slider in sliders:\n",
    "        #     if slider != change['owner']:\n",
    "        #         observer = slider.observe(on_change, 'value')\n",
    "        #         slider.value = slider.value - (change_value/(len(sliders)-1))\n",
    "        #         observer.disconnect()\n",
    "\n",
    "\n",
    "print(conversion_table)\n"
   ]
  },
  {
   "cell_type": "code",
   "execution_count": 11,
   "metadata": {},
   "outputs": [
    {
     "data": {
      "application/vnd.jupyter.widget-view+json": {
       "model_id": "969a89cbdad949a6bd12ce15e4ecac0e",
       "version_major": 2,
       "version_minor": 0
      },
      "text/plain": [
       "interactive(children=(FloatSlider(value=1.0, description='x', max=10.0, min=0.5, step=0.05), FloatSlider(value…"
      ]
     },
     "metadata": {},
     "output_type": "display_data"
    }
   ],
   "source": [
    "import ipywidgets as widgets\n",
    "\n",
    "class Slider:\n",
    "\n",
    "    def __init__ (self, car, public_transport, red_meat, dairy, grains, phone, computer, tv):\n",
    "\n",
    "        # initalize the values for each slider\n",
    "        self.car_widget = widgets.FloatSlider(min=0.5, max=10.0, step=0.05, value=car)\n",
    "        self.public_transport_widget = widgets.FloatSlider(min=0.5, max=10.0, step=0.05, value=public_transport)\n",
    "        self.red_meat_widget = widgets.FloatSlider(min=0.5, max=10.0, step=0.05, value=red_meat)\n",
    "        self.dairy_widget = widgets.FloatSlider(min=0.5, max=10.0, step=0.05, value=dairy)\n",
    "        self.grains_widget = widgets.FloatSlider(min=0.5, max=10.0, step=0.05, value=grains)\n",
    "        self.phone_widget = widgets.FloatSlider(min=0.5, max=10.0, step=0.05, value=phone)\n",
    "        self.computer_widget = widgets.FloatSlider(min=0.5, max=10.0, step=0.05, value=computer)\n",
    "        self.tv_widget = widgets.FloatSlider(min=0.5, max=10.0, step=0.05, value=tv)\n",
    "\n",
    "        # initalize observer pattern\n",
    "        self.car_widget.observe(update_emissions, 'car')\n",
    "        self.public_transport_widget.observe(update_emissions, 'public_transport')\n",
    "        self.red_meat_widget.observe(update_emissions, 'red_meat')\n",
    "        self.dairy_widget.observe(update_emissions, 'dairy')\n",
    "        self.grains_widget.observe(update_emissions, 'grains')\n",
    "        self.phone_widget.observe(update_emissions, 'phone')\n",
    "        self.computer_widget.observe(update_emissions, 'computer')\n",
    "        self.tv_widget.observe(update_emissions, 'tv')\n",
    "\n",
    "        \n",
    "\n",
    "\n",
    "    def goal(self, x, y, c):\n",
    "        print(self.car_widget.observe.old)\n",
    "        print(x, y, c)\n",
    "\n",
    "\n",
    "newSlider = Slider(1,4,5,5,6,7,7,8)\n",
    "\n",
    "# start the interaction\n",
    "widgets.interact(newSlider.goal,x=newSlider.car_widget, y=newSlider.computer_widget, c=newSlider.dairy_widget);\n",
    "\n",
    "# def update_x_range(*args):\n",
    "#     x_widget.value = 2.0 * y_widget.value\n",
    "    \n",
    "\n",
    "\n"
   ]
  },
  {
   "cell_type": "code",
   "execution_count": 12,
   "metadata": {},
   "outputs": [
    {
     "data": {
      "application/vnd.jupyter.widget-view+json": {
       "model_id": "9cdb887239d74d3d9a0e0851db3222dc",
       "version_major": 2,
       "version_minor": 0
      },
      "text/plain": [
       "VBox(children=(FloatSlider(value=6.5, continuous_update=False, description='car:', max=10.0), FloatSlider(valu…"
      ]
     },
     "metadata": {},
     "output_type": "display_data"
    }
   ],
   "source": [
    "def create_slider(description:str, value:float, min_val:float, max_val:float, step:float)->widgets.FloatSlider:\n",
    "    return widgets.FloatSlider(\n",
    "        value=value,\n",
    "        min=min_val,\n",
    "        max=max_val,\n",
    "        step=step,\n",
    "        description=description+':',\n",
    "        continuous_update=False\n",
    "    )\n",
    "\n",
    "car_slider = create_slider(\"car\", 6.5, 0, 10, 0.1)\n",
    "public_transport_slider = create_slider(\"public_transport\", 4.3, 0, 10, 0.1)\n",
    "walking_slider = create_slider(\"walking\", 0, 0, 10, 0.1)\n",
    "red_meat_slider = create_slider(\"red_meat\", 8, 0, 10, 0.1)\n",
    "dairy_slider = create_slider(\"dairy\", 6.3, 0, 10, 0.1)\n",
    "grains_slider = create_slider(\"grains\", 3.7, 0, 10, 0.1)\n",
    "phone_slider = create_slider(\"phone\", 3.6, 0, 10, 0.1)\n",
    "computer_slider = create_slider(\"computer\", 4.2, 0, 10, 0.1)\n",
    "tv_slider = create_slider(\"tv\", 6.8, 0, 10, 0.1)\n",
    "\n",
    "widgets.VBox([car_slider, public_transport_slider, walking_slider, red_meat_slider, dairy_slider, grains_slider, phone_slider, computer_slider, tv_slider])"
   ]
  },
  {
   "cell_type": "code",
   "execution_count": 9,
   "metadata": {},
   "outputs": [
    {
     "data": {
      "application/vnd.jupyter.widget-view+json": {
       "model_id": "6d0cd92e8b0640f9834ea43b617a6af5",
       "version_major": 2,
       "version_minor": 0
      },
      "text/plain": [
       "VBox(children=(FloatSlider(value=6.5, description='car', max=10.0), FloatSlider(value=4.3, description='public…"
      ]
     },
     "metadata": {},
     "output_type": "display_data"
    }
   ],
   "source": [
    "import ipywidgets as widgets\n",
    "\n",
    "def create_slider(description:str, value:float, min_val, max_val, step:float)->widgets.FloatSlider:\n",
    "    return widgets.FloatSlider(\n",
    "        value=value,\n",
    "        min=min_val,\n",
    "        max=max_val,\n",
    "        step=step,\n",
    "        description=description\n",
    "    )\n",
    "\n",
    "car_slider = create_slider(\"car\", 6.5, 0, 10, 0.1)\n",
    "public_transport_slider = create_slider(\"public_transport\", 4.3, 0, 10, 0.1)\n",
    "walking_slider = create_slider(\"walking\", 0, 0, 10, 0.1)\n",
    "red_meat_slider = create_slider(\"red_meat\", 8, 0, 10, 0.1)\n",
    "dairy_slider = create_slider(\"dairy\", 6.3, 0, 10, 0.1)\n",
    "grains_slider = create_slider(\"grains\", 3.7, 0, 10, 0.1)\n",
    "phone_slider = create_slider(\"phone\", 3.6, 0, 10, 0.1)\n",
    "computer_slider = create_slider(\"computer\", 4.2, 0, 10, 0.1)\n",
    "tv_slider = create_slider(\"tv\", 6.8, 0, 10, 0.1)\n",
    "\n",
    "sliders = [car_slider, public_transport_slider, walking_slider, red_meat_slider, dairy_slider, grains_slider, phone_slider, computer_slider, tv_slider]\n",
    "\n",
    "total = sum([slider.value for slider in sliders])\n",
    "\n",
    "def on_change(change):\n",
    "    print('HERE', change['owner'].description)\n",
    "    print()\n",
    "\n",
    "    if change['name'] == 'value':\n",
    "        total = sum([slider.value for slider in sliders])\n",
    "        change_value = change['new'] - change['old']\n",
    "        # print(total + '' + change_value)\n",
    "        # print(change['new'])\n",
    "        # print(change['old'])\n",
    "        print(change)\n",
    "\n",
    "        for slider in sliders:\n",
    "            # if slider != change['owner']:\n",
    "            observer = slider.observe(on_change, 'value')\n",
    "            # slider.value = slider.value - (change_value/(len(sliders)-1))\n",
    "            observer.disconnect()\n",
    "        \n",
    "        for slider in sliders:\n",
    "            if sliders != change['owner']:\n",
    "                slider.value = slider.value - (change_value/(len(sliders)-1))\n",
    "        \n",
    "        for slider in sliders:\n",
    "            slider.observe(on_change, 'value')\n",
    "\n",
    "\n",
    "def goal_printing () -> None:\n",
    "    for slider in sliders:\n",
    "        print(slider.value*conversion_table[slider.description])\n",
    "    \n",
    "\n",
    "widgets.VBox(sliders)\n"
   ]
  }
 ],
 "metadata": {
  "kernelspec": {
   "display_name": "Python 3",
   "language": "python",
   "name": "python3"
  },
  "language_info": {
   "codemirror_mode": {
    "name": "ipython",
    "version": 3
   },
   "file_extension": ".py",
   "mimetype": "text/x-python",
   "name": "python",
   "nbconvert_exporter": "python",
   "pygments_lexer": "ipython3",
   "version": "3.9.6"
  },
  "orig_nbformat": 4,
  "vscode": {
   "interpreter": {
    "hash": "31f2aee4e71d21fbe5cf8b01ff0e069b9275f58929596ceb00d14d90e3e16cd6"
   }
  }
 },
 "nbformat": 4,
 "nbformat_minor": 2
}
