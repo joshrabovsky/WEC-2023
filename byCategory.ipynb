{
 "cells": [
  {
   "cell_type": "code",
   "execution_count": 48,
   "metadata": {},
   "outputs": [
    {
     "name": "stdout",
     "output_type": "stream",
     "text": [
      "Column names are , address, red_meat, controller, grains, action, endpoint, dairy, cellphone, tv, computer, new_year_resolution, discipline, username, car, walking, public_transport, status, items/total, red_meat_co2_emissions, grains_co2_emissions, dairy_co2_emissions, cellphone_co2_emissions, tv_co2_emissions, computer_co2_emissions, car_co2_emissions, walking_co2_emissions, public_transport_co2_emissions\n",
      "Processed 16 lines.\n",
      "{'': '0', 'address': '178373', 'red_meat': '100 pounds', 'controller': 'LocationController', 'grains': '2 pounds', 'action': 'Get', 'endpoint': '(OWL) https://uwo.ca/edge/software', 'dairy': '200 pounds', 'cellphone': '55 hours', 'tv': '43 hours', 'computer': '130 hours', 'new_year_resolution': '5%', 'discipline': 'software', 'username': 'Sammy', 'car': '150 hours', 'walking': '3 hours', 'public_transport': '10 hours', 'status': '4', 'items/total': '2/1', 'red_meat_co2_emissions': '800.0', 'grains_co2_emissions': '7.4', 'dairy_co2_emissions': '1260.0', 'cellphone_co2_emissions': '198.0', 'tv_co2_emissions': '292.4', 'computer_co2_emissions': '546.0', 'car_co2_emissions': '975.0', 'walking_co2_emissions': '0', 'public_transport_co2_emissions': '43.0'}\n"
     ]
    }
   ],
   "source": [
    "import csv\n",
    "\n",
    "with open('./extraction/emissions.csv') as csv_file:\n",
    "    csv_reader = csv.reader(csv_file, delimiter=',')\n",
    "    line_count = 0\n",
    "    cols = []\n",
    "    data = []\n",
    "    for row in csv_reader:\n",
    "        if line_count == 0:\n",
    "            cols = row\n",
    "            print(f'Column names are {\", \".join(row)}')\n",
    "            line_count += 1\n",
    "        else:\n",
    "            data.append({})\n",
    "            for d, c in zip(row, cols):\n",
    "                data[-1][c] = d\n",
    "                \n",
    "            line_count += 1\n",
    "    print(f'Processed {line_count} lines.')\n",
    "    print(data[0])"
   ]
  },
  {
   "cell_type": "code",
   "execution_count": 78,
   "metadata": {},
   "outputs": [
    {
     "name": "stdout",
     "output_type": "stream",
     "text": [
      "{'food': {'red_meat': 0, 'grains': 0, 'dairy': 0}, 'transportation': {'car': 0, 'walking': 0, 'public_transport': 0}, 'electronic': {'cellphone': 0, 'tv': 0, 'computer': 0}}\n"
     ]
    }
   ],
   "source": [
    "# Labels\n",
    "\n",
    "APPEND_CO2_LABEL = \"_co2_emissions\"\n",
    "\n",
    "CATEGORIES = {\"food\": [\"red_meat\", \"grains\", \"dairy\"], \"transportation\": [\"car\", \"walking\", \"public_transport\"], \"electronic\": [\"cellphone\", \"tv\", \"computer\"]}\n",
    "\n",
    "data_grouped = {key: {lbl: 0 for lbl in CATEGORIES[key]} for key in CATEGORIES}\n",
    "\n",
    "print(data_grouped)"
   ]
  },
  {
   "cell_type": "code",
   "execution_count": 83,
   "metadata": {},
   "outputs": [
    {
     "name": "stdout",
     "output_type": "stream",
     "text": [
      "red_meat\n",
      "grains\n",
      "dairy\n",
      "total\n",
      "car\n",
      "walking\n",
      "public_transport\n",
      "total\n",
      "cellphone\n",
      "tv\n",
      "computer\n",
      "total\n"
     ]
    }
   ],
   "source": [
    "for row in data:\n",
    "    for category in CATEGORIES.keys():\n",
    "        for col_name in CATEGORIES[category]:\n",
    "            val = float(row[col_name + APPEND_CO2_LABEL])\n",
    "            data_grouped[category][\"total\"] = data_grouped[category].get(\"total\", 0) + val\n",
    "            data_grouped[category][col_name] += val\n",
    "            \n",
    "final_data = []\n",
    "\n",
    "for g, items in data_grouped.items():\n",
    "    for k in items:\n",
    "        print(k)"
   ]
  },
  {
   "cell_type": "code",
   "execution_count": 82,
   "metadata": {},
   "outputs": [
    {
     "name": "stdout",
     "output_type": "stream",
     "text": [
      "    country continent  year  lifeExp       pop    gdpPercap iso_alpha  iso_num\n",
      "240  Canada  Americas  1952   68.750  14785584  11367.16112       CAN      124\n",
      "241  Canada  Americas  1957   69.960  17010154  12489.95006       CAN      124\n",
      "242  Canada  Americas  1962   71.300  18985849  13462.48555       CAN      124\n",
      "243  Canada  Americas  1967   72.130  20819767  16076.58803       CAN      124\n",
      "244  Canada  Americas  1972   72.880  22284500  18970.57086       CAN      124\n",
      "245  Canada  Americas  1977   74.210  23796400  22090.88306       CAN      124\n",
      "246  Canada  Americas  1982   75.760  25201900  22898.79214       CAN      124\n",
      "247  Canada  Americas  1987   76.860  26549700  26626.51503       CAN      124\n",
      "248  Canada  Americas  1992   77.950  28523502  26342.88426       CAN      124\n",
      "249  Canada  Americas  1997   78.610  30305843  28954.92589       CAN      124\n",
      "250  Canada  Americas  2002   79.770  31902268  33328.96507       CAN      124\n",
      "251  Canada  Americas  2007   80.653  33390141  36319.23501       CAN      124\n",
      "<class 'pandas.core.frame.DataFrame'>\n"
     ]
    }
   ],
   "source": [
    "# fig = px.bar(data_canada, x='year', y='pop')\n",
    "# fig.show()"
   ]
  }
 ],
 "metadata": {
  "kernelspec": {
   "display_name": "Python 3",
   "language": "python",
   "name": "python3"
  },
  "language_info": {
   "codemirror_mode": {
    "name": "ipython",
    "version": 3
   },
   "file_extension": ".py",
   "mimetype": "text/x-python",
   "name": "python",
   "nbconvert_exporter": "python",
   "pygments_lexer": "ipython3",
   "version": "3.7.9"
  },
  "orig_nbformat": 4,
  "vscode": {
   "interpreter": {
    "hash": "d38678f14c613abdc0d6ce0f4cb1e7e52c233d82e0812f028c5fc8ab0edf1f18"
   }
  }
 },
 "nbformat": 4,
 "nbformat_minor": 2
}
