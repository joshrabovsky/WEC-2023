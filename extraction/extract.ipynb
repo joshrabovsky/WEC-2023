{
 "cells": [
  {
   "attachments": {},
   "cell_type": "markdown",
   "metadata": {},
   "source": [
    "# Text Extraction"
   ]
  },
  {
   "attachments": {},
   "cell_type": "markdown",
   "metadata": {},
   "source": [
    "## Imports"
   ]
  },
  {
   "cell_type": "code",
   "execution_count": 3,
   "metadata": {},
   "outputs": [],
   "source": [
    "import re\n",
    "import json\n",
    "import pandas as pd"
   ]
  },
  {
   "attachments": {},
   "cell_type": "markdown",
   "metadata": {},
   "source": [
    "## Data Extraction"
   ]
  },
  {
   "attachments": {},
   "cell_type": "markdown",
   "metadata": {},
   "source": [
    "### All Data"
   ]
  },
  {
   "cell_type": "code",
   "execution_count": 4,
   "metadata": {},
   "outputs": [],
   "source": [
    "items = []\n",
    "\n",
    "# open file\n",
    "with open(\"data_cleaned.txt\") as f:\n",
    "    lines = [line.rstrip() for line in f] # read all files and remove whitespace\n",
    "    for line in lines:\n",
    "        if re.search(\"Request|Response\", line): # Each request/response makes a new dict\n",
    "            items.append({})\n",
    "        elif len(line) == 0: \n",
    "            pass # skip if there is no content in the line\n",
    "        else:\n",
    "            k, v = re.split(\":\\s\", line) # add the key value pair to the list\n",
    "            items[-1][k.strip()] = v.strip() # Add to dictionary and remove surrounding whitespace"
   ]
  },
  {
   "attachments": {},
   "cell_type": "markdown",
   "metadata": {},
   "source": [
    "### Extract Discipline"
   ]
  },
  {
   "cell_type": "code",
   "execution_count": 5,
   "metadata": {},
   "outputs": [],
   "source": [
    "for i in items:\n",
    "    i['Discipline'] = re.search(\"edge\\/(.*)$\", i['Endpoint']).group(1)"
   ]
  },
  {
   "attachments": {},
   "cell_type": "markdown",
   "metadata": {},
   "source": [
    "### Match Request and Responses"
   ]
  },
  {
   "cell_type": "code",
   "execution_count": 6,
   "metadata": {},
   "outputs": [],
   "source": [
    "users = []\n",
    "found = set()\n",
    "for i in range(len(items)):\n",
    "    i1 = items[i]\n",
    "    if (i1['Controller'], i1['Discipline']) in found:\n",
    "        continue\n",
    "    for j in range(i+1, len(items)):\n",
    "        i2 = items[j]\n",
    "        if i1['Controller'] == i2['Controller'] and i1['Discipline'] == i2['Discipline']:\n",
    "            users.append({})\n",
    "            for k, v in i1.items():\n",
    "                users[-1][k] = v\n",
    "            for k, v in i2.items():\n",
    "                users[-1][k] = v\n",
    "            found.add((i1['Controller'], i1['Discipline']))\n",
    "            break"
   ]
  },
  {
   "attachments": {},
   "cell_type": "markdown",
   "metadata": {},
   "source": [
    "### Value Checks"
   ]
  },
  {
   "cell_type": "code",
   "execution_count": 7,
   "metadata": {},
   "outputs": [
    {
     "name": "stdout",
     "output_type": "stream",
     "text": [
      "15 {'Address': '178373', 'Red Meat': '100 pounds', 'Controller': 'LocationController', 'Grains': '2 pounds', 'Action': 'Get', 'Endpoint': '(OWL) https://uwo.ca/edge/software', 'Dairy': '200 pounds', 'Cellphone': '55 hours', 'TV': '43 hours', 'Computer': '130 hours', 'New Year Resolution': '5%', 'Discipline': 'software', 'Username': 'Sammy', 'Car': '150 hours', 'Walking': '3 hours', 'Public Transport': '10 hours', 'Status': '4', 'Items/Total': '2/1'}\n"
     ]
    }
   ],
   "source": [
    "print(\n",
    "    len(users), users[0]\n",
    ")"
   ]
  },
  {
   "attachments": {},
   "cell_type": "markdown",
   "metadata": {},
   "source": [
    "### Add Conversion Metrics"
   ]
  },
  {
   "cell_type": "code",
   "execution_count": 8,
   "metadata": {},
   "outputs": [
    {
     "data": {
      "text/plain": [
       "{'public_transport': 4.3,\n",
       " 'car': 6.5,\n",
       " 'walking': 0,\n",
       " 'red_meat': 8.0,\n",
       " 'dairy': 6.3,\n",
       " 'grains': 3.7,\n",
       " 'phone': 3.6,\n",
       " 'computer': 4.2,\n",
       " 'tv': 6.8}"
      ]
     },
     "execution_count": 8,
     "metadata": {},
     "output_type": "execute_result"
    }
   ],
   "source": [
    "conversions = {}\n",
    "with open('conversion_table.json') as f:\n",
    "    conversions = json.loads(f.read())\n",
    "conversions"
   ]
  },
  {
   "cell_type": "code",
   "execution_count": 9,
   "metadata": {},
   "outputs": [],
   "source": [
    "for k, v in conversions.items():\n",
    "    for u in users:\n",
    "        for k in ['Red Meat', 'Grains', 'Dairy', 'Cellphone', 'TV', 'Computer', 'Car', 'Walking', 'Public Transport']:\n",
    "            units = int(re.search(\"^(.*)\\s\", u[k]).group(1))\n",
    "            col_name = f\"{k} CO2 Emissions\"\n",
    "            u[col_name] = units"
   ]
  },
  {
   "attachments": {},
   "cell_type": "markdown",
   "metadata": {},
   "source": [
    "## Extract CSV"
   ]
  },
  {
   "attachments": {},
   "cell_type": "markdown",
   "metadata": {},
   "source": [
    "### JSON To CSV Conversion"
   ]
  },
  {
   "cell_type": "code",
   "execution_count": 10,
   "metadata": {},
   "outputs": [],
   "source": [
    "df = pd.DataFrame(users)"
   ]
  },
  {
   "attachments": {},
   "cell_type": "markdown",
   "metadata": {},
   "source": [
    "### Rename Columns"
   ]
  },
  {
   "cell_type": "code",
   "execution_count": 11,
   "metadata": {},
   "outputs": [
    {
     "ename": "AttributeError",
     "evalue": "'str' object has no attribute 'repalce'",
     "output_type": "error",
     "traceback": [
      "\u001b[0;31m---------------------------------------------------------------------------\u001b[0m",
      "\u001b[0;31mAttributeError\u001b[0m                            Traceback (most recent call last)",
      "Cell \u001b[0;32mIn [11], line 2\u001b[0m\n\u001b[1;32m      1\u001b[0m \u001b[39mfor\u001b[39;00m col \u001b[39min\u001b[39;00m df\u001b[39m.\u001b[39mcolumns:\n\u001b[0;32m----> 2\u001b[0m     new_col \u001b[39m=\u001b[39m col\u001b[39m.\u001b[39;49mlower()\u001b[39m.\u001b[39;49mrepalce(\u001b[39m\"\u001b[39m\u001b[39m \u001b[39m\u001b[39m\"\u001b[39m, \u001b[39m\"\u001b[39m\u001b[39m_\u001b[39m\u001b[39m\"\u001b[39m)\n\u001b[1;32m      3\u001b[0m     \u001b[39mprint\u001b[39m(new_col)\n",
      "\u001b[0;31mAttributeError\u001b[0m: 'str' object has no attribute 'repalce'"
     ]
    }
   ],
   "source": [
    "for col in df.columns:\n",
    "    new_col = col.lower().repalce(\" \", \"_\")\n",
    "    print(new_col)"
   ]
  }
 ],
 "metadata": {
  "kernelspec": {
   "display_name": "Python 3",
   "language": "python",
   "name": "python3"
  },
  "language_info": {
   "codemirror_mode": {
    "name": "ipython",
    "version": 3
   },
   "file_extension": ".py",
   "mimetype": "text/x-python",
   "name": "python",
   "nbconvert_exporter": "python",
   "pygments_lexer": "ipython3",
   "version": "3.10.7"
  },
  "orig_nbformat": 4,
  "vscode": {
   "interpreter": {
    "hash": "aee8b7b246df8f9039afb4144a1f6fd8d2ca17a180786b69acc140d282b71a49"
   }
  }
 },
 "nbformat": 4,
 "nbformat_minor": 2
}
