{
 "cells": [
  {
   "attachments": {},
   "cell_type": "markdown",
   "metadata": {},
   "source": [
    "# Text Extraction\n",
    "\n",
    "NOTES\n",
    "\n",
    "- The primary key found was endpoint and controller\n",
    "- The number of requests and responses mismatched. The removed user was chosen was based on the request with the same primary key and only one response. The specific user removed is based on their 0% new year resolution, and as such would likely not have a need for the data visualizations."
   ]
  },
  {
   "attachments": {},
   "cell_type": "markdown",
   "metadata": {},
   "source": [
    "## Imports"
   ]
  },
  {
   "cell_type": "code",
   "execution_count": 197,
   "metadata": {},
   "outputs": [],
   "source": [
    "import re\n",
    "import json\n",
    "import pandas as pd"
   ]
  },
  {
   "attachments": {},
   "cell_type": "markdown",
   "metadata": {},
   "source": [
    "## Data Extraction"
   ]
  },
  {
   "attachments": {},
   "cell_type": "markdown",
   "metadata": {},
   "source": [
    "### All Data"
   ]
  },
  {
   "cell_type": "code",
   "execution_count": 199,
   "metadata": {},
   "outputs": [],
   "source": [
    "items = []\n",
    "\n",
    "# open file\n",
    "with open(\"data_cleaned.txt\") as f:\n",
    "    lines = [line.rstrip() for line in f] # read all files and remove whitespace\n",
    "    for line in lines:\n",
    "        if re.search(\"Request|Response\", line): # Each request/response makes a new dict\n",
    "            items.append({})\n",
    "        elif len(line) == 0: \n",
    "            pass # skip if there is no content in the line\n",
    "        else:\n",
    "            k, v = re.split(\":\\s\", line) # add the key value pair to the list\n",
    "            items[-1][k.strip()] = v.strip() # Add to dictionary and remove surrounding whitespace"
   ]
  },
  {
   "attachments": {},
   "cell_type": "markdown",
   "metadata": {},
   "source": [
    "### Extract Discipline"
   ]
  },
  {
   "cell_type": "code",
   "execution_count": 200,
   "metadata": {},
   "outputs": [],
   "source": [
    "for i in items:\n",
    "    i['Discipline'] = re.search(\"edge\\/(.*)$\", i['Endpoint']).group(1) # Extract the displine from endpoint using regex"
   ]
  },
  {
   "attachments": {},
   "cell_type": "markdown",
   "metadata": {},
   "source": [
    "### Match Request and Responses"
   ]
  },
  {
   "cell_type": "code",
   "execution_count": 201,
   "metadata": {},
   "outputs": [],
   "source": [
    "users = [] # list of users\n",
    "found = set() # set of found users using Primary Key of discipline and Controller\n",
    "for i in range(len(items)):\n",
    "    i1 = items[i]\n",
    "    if (i1['Controller'], i1['Discipline']) in found: # if the user already exists, skip\n",
    "        continue\n",
    "    for j in range(i+1, len(items)):\n",
    "        i2 = items[j]\n",
    "        if i1['Controller'] == i2['Controller'] and i1['Discipline'] == i2['Discipline']: # if the primary keys aforementioned match\n",
    "            users.append({}) # make a new user\n",
    "            for k, v in i1.items():\n",
    "                users[-1][k] = v # add all keys and values to user\n",
    "            for k, v in i2.items():\n",
    "                users[-1][k] = v # add all keys and values to user\n",
    "            found.add((i1['Controller'], i1['Discipline']))\n",
    "            break"
   ]
  },
  {
   "attachments": {},
   "cell_type": "markdown",
   "metadata": {},
   "source": [
    "### Value Checks"
   ]
  },
  {
   "cell_type": "code",
   "execution_count": 202,
   "metadata": {},
   "outputs": [
    {
     "name": "stdout",
     "output_type": "stream",
     "text": [
      "15 {'Address': '178373', 'Red Meat': '100 pounds', 'Controller': 'LocationController', 'Grains': '2 pounds', 'Action': 'Get', 'Endpoint': '(OWL) https://uwo.ca/edge/software', 'Dairy': '200 pounds', 'Cellphone': '55 hours', 'TV': '43 hours', 'Computer': '130 hours', 'New Year Resolution': '5%', 'Discipline': 'software', 'Username': 'Sammy', 'Car': '150 hours', 'Walking': '3 hours', 'Public Transport': '10 hours', 'Status': '4', 'Items/Total': '2/1'}\n"
     ]
    }
   ],
   "source": [
    "print(\n",
    "    len(users), users[0]\n",
    ")"
   ]
  },
  {
   "attachments": {},
   "cell_type": "markdown",
   "metadata": {},
   "source": [
    "### Add Conversion Metrics"
   ]
  },
  {
   "cell_type": "code",
   "execution_count": 203,
   "metadata": {},
   "outputs": [
    {
     "data": {
      "text/plain": [
       "{'Public Transport': 4.3,\n",
       " 'Car': 6.5,\n",
       " 'Walking': 0,\n",
       " 'Red Meat': 8.0,\n",
       " 'Dairy': 6.3,\n",
       " 'Grains': 3.7,\n",
       " 'Cellphone': 3.6,\n",
       " 'Computer': 4.2,\n",
       " 'TV': 6.8}"
      ]
     },
     "execution_count": 203,
     "metadata": {},
     "output_type": "execute_result"
    }
   ],
   "source": [
    "conversions = {} \n",
    "with open('conversion_table.json') as f:\n",
    "    conversions = json.loads(f.read()) # Using the data provided in the product requirements\n",
    "conversions"
   ]
  },
  {
   "cell_type": "code",
   "execution_count": 204,
   "metadata": {},
   "outputs": [],
   "source": [
    "for u in users:\n",
    "    for k in ['Red Meat', 'Grains', 'Dairy', 'Cellphone', 'TV', 'Computer', 'Car', 'Walking', 'Public Transport']: # List of conversion factors from the text file\n",
    "        amount, units = re.split(\"\\s\", u[k])\n",
    "        CO2 = int(amount) * conversions[k] # mutliply units by conversion factors\n",
    "        col_name = f\"{k} CO2 Emissions\"\n",
    "        u[col_name] = CO2 # Add new column to table\n",
    "        u[f\"{k} {units}\"] = int(amount)\n",
    "        del u[k]"
   ]
  },
  {
   "attachments": {},
   "cell_type": "markdown",
   "metadata": {},
   "source": [
    "## Extract CSV"
   ]
  },
  {
   "attachments": {},
   "cell_type": "markdown",
   "metadata": {},
   "source": [
    "### JSON To CSV Conversion"
   ]
  },
  {
   "cell_type": "code",
   "execution_count": 205,
   "metadata": {},
   "outputs": [
    {
     "data": {
      "text/html": [
       "<div>\n",
       "<style scoped>\n",
       "    .dataframe tbody tr th:only-of-type {\n",
       "        vertical-align: middle;\n",
       "    }\n",
       "\n",
       "    .dataframe tbody tr th {\n",
       "        vertical-align: top;\n",
       "    }\n",
       "\n",
       "    .dataframe thead th {\n",
       "        text-align: right;\n",
       "    }\n",
       "</style>\n",
       "<table border=\"1\" class=\"dataframe\">\n",
       "  <thead>\n",
       "    <tr style=\"text-align: right;\">\n",
       "      <th></th>\n",
       "      <th>Address</th>\n",
       "      <th>Controller</th>\n",
       "      <th>Action</th>\n",
       "      <th>Endpoint</th>\n",
       "      <th>New Year Resolution</th>\n",
       "      <th>Discipline</th>\n",
       "      <th>Username</th>\n",
       "      <th>Status</th>\n",
       "      <th>Items/Total</th>\n",
       "      <th>Red Meat CO2 Emissions</th>\n",
       "      <th>...</th>\n",
       "      <th>TV hours</th>\n",
       "      <th>Computer CO2 Emissions</th>\n",
       "      <th>Computer hours</th>\n",
       "      <th>Car CO2 Emissions</th>\n",
       "      <th>Car hours</th>\n",
       "      <th>Walking CO2 Emissions</th>\n",
       "      <th>Walking hours</th>\n",
       "      <th>Public Transport CO2 Emissions</th>\n",
       "      <th>Public Transport hours</th>\n",
       "      <th>TV hour</th>\n",
       "    </tr>\n",
       "  </thead>\n",
       "  <tbody>\n",
       "    <tr>\n",
       "      <th>0</th>\n",
       "      <td>178373</td>\n",
       "      <td>LocationController</td>\n",
       "      <td>Get</td>\n",
       "      <td>(OWL) https://uwo.ca/edge/software</td>\n",
       "      <td>5%</td>\n",
       "      <td>software</td>\n",
       "      <td>Sammy</td>\n",
       "      <td>4</td>\n",
       "      <td>2/1</td>\n",
       "      <td>800.0</td>\n",
       "      <td>...</td>\n",
       "      <td>43.0</td>\n",
       "      <td>546.0</td>\n",
       "      <td>130</td>\n",
       "      <td>975.0</td>\n",
       "      <td>150</td>\n",
       "      <td>0</td>\n",
       "      <td>3</td>\n",
       "      <td>43.0</td>\n",
       "      <td>10</td>\n",
       "      <td>NaN</td>\n",
       "    </tr>\n",
       "    <tr>\n",
       "      <th>1</th>\n",
       "      <td>156354</td>\n",
       "      <td>Controlmite</td>\n",
       "      <td>Get</td>\n",
       "      <td>(OWL) https://uwo.ca/edge/software</td>\n",
       "      <td>15%</td>\n",
       "      <td>software</td>\n",
       "      <td>Griffin</td>\n",
       "      <td>0</td>\n",
       "      <td>3/1</td>\n",
       "      <td>712.0</td>\n",
       "      <td>...</td>\n",
       "      <td>75.0</td>\n",
       "      <td>369.6</td>\n",
       "      <td>88</td>\n",
       "      <td>487.5</td>\n",
       "      <td>75</td>\n",
       "      <td>0</td>\n",
       "      <td>68</td>\n",
       "      <td>184.9</td>\n",
       "      <td>43</td>\n",
       "      <td>NaN</td>\n",
       "    </tr>\n",
       "    <tr>\n",
       "      <th>2</th>\n",
       "      <td>919323</td>\n",
       "      <td>ControlPublic</td>\n",
       "      <td>Get</td>\n",
       "      <td>https://uwo.ca/edge/electrical</td>\n",
       "      <td>9%</td>\n",
       "      <td>electrical</td>\n",
       "      <td>Spencer</td>\n",
       "      <td>0</td>\n",
       "      <td>3/5</td>\n",
       "      <td>208.0</td>\n",
       "      <td>...</td>\n",
       "      <td>50.0</td>\n",
       "      <td>315.0</td>\n",
       "      <td>75</td>\n",
       "      <td>546.0</td>\n",
       "      <td>84</td>\n",
       "      <td>0</td>\n",
       "      <td>65</td>\n",
       "      <td>335.4</td>\n",
       "      <td>78</td>\n",
       "      <td>NaN</td>\n",
       "    </tr>\n",
       "    <tr>\n",
       "      <th>3</th>\n",
       "      <td>983575</td>\n",
       "      <td>Controlz</td>\n",
       "      <td>Get</td>\n",
       "      <td>(OWL) https://uwo.ca/edge/mechanical</td>\n",
       "      <td>4%</td>\n",
       "      <td>mechanical</td>\n",
       "      <td>Annie</td>\n",
       "      <td>0</td>\n",
       "      <td>3/1</td>\n",
       "      <td>280.0</td>\n",
       "      <td>...</td>\n",
       "      <td>50.0</td>\n",
       "      <td>21.0</td>\n",
       "      <td>5</td>\n",
       "      <td>130.0</td>\n",
       "      <td>20</td>\n",
       "      <td>0</td>\n",
       "      <td>71</td>\n",
       "      <td>146.2</td>\n",
       "      <td>34</td>\n",
       "      <td>NaN</td>\n",
       "    </tr>\n",
       "    <tr>\n",
       "      <th>4</th>\n",
       "      <td>919325</td>\n",
       "      <td>LocationController</td>\n",
       "      <td>Get</td>\n",
       "      <td>https://uwo.ca/edge/mechanical</td>\n",
       "      <td>6%</td>\n",
       "      <td>mechanical</td>\n",
       "      <td>Jessica</td>\n",
       "      <td>0</td>\n",
       "      <td>3/3</td>\n",
       "      <td>440.0</td>\n",
       "      <td>...</td>\n",
       "      <td>100.0</td>\n",
       "      <td>210.0</td>\n",
       "      <td>50</td>\n",
       "      <td>507.0</td>\n",
       "      <td>78</td>\n",
       "      <td>0</td>\n",
       "      <td>101</td>\n",
       "      <td>94.6</td>\n",
       "      <td>22</td>\n",
       "      <td>NaN</td>\n",
       "    </tr>\n",
       "  </tbody>\n",
       "</table>\n",
       "<p>5 rows × 28 columns</p>\n",
       "</div>"
      ],
      "text/plain": [
       "  Address          Controller Action                              Endpoint  \\\n",
       "0  178373  LocationController    Get    (OWL) https://uwo.ca/edge/software   \n",
       "1  156354         Controlmite    Get    (OWL) https://uwo.ca/edge/software   \n",
       "2  919323       ControlPublic    Get        https://uwo.ca/edge/electrical   \n",
       "3  983575            Controlz    Get  (OWL) https://uwo.ca/edge/mechanical   \n",
       "4  919325  LocationController    Get        https://uwo.ca/edge/mechanical   \n",
       "\n",
       "  New Year Resolution  Discipline Username Status Items/Total  \\\n",
       "0                  5%    software    Sammy      4         2/1   \n",
       "1                 15%    software  Griffin      0         3/1   \n",
       "2                  9%  electrical  Spencer      0         3/5   \n",
       "3                  4%  mechanical    Annie      0         3/1   \n",
       "4                  6%  mechanical  Jessica      0         3/3   \n",
       "\n",
       "   Red Meat CO2 Emissions  ...  TV hours  Computer CO2 Emissions  \\\n",
       "0                   800.0  ...      43.0                   546.0   \n",
       "1                   712.0  ...      75.0                   369.6   \n",
       "2                   208.0  ...      50.0                   315.0   \n",
       "3                   280.0  ...      50.0                    21.0   \n",
       "4                   440.0  ...     100.0                   210.0   \n",
       "\n",
       "   Computer hours  Car CO2 Emissions  Car hours  Walking CO2 Emissions  \\\n",
       "0             130              975.0        150                      0   \n",
       "1              88              487.5         75                      0   \n",
       "2              75              546.0         84                      0   \n",
       "3               5              130.0         20                      0   \n",
       "4              50              507.0         78                      0   \n",
       "\n",
       "   Walking hours  Public Transport CO2 Emissions  Public Transport hours  \\\n",
       "0              3                            43.0                      10   \n",
       "1             68                           184.9                      43   \n",
       "2             65                           335.4                      78   \n",
       "3             71                           146.2                      34   \n",
       "4            101                            94.6                      22   \n",
       "\n",
       "   TV hour  \n",
       "0      NaN  \n",
       "1      NaN  \n",
       "2      NaN  \n",
       "3      NaN  \n",
       "4      NaN  \n",
       "\n",
       "[5 rows x 28 columns]"
      ]
     },
     "execution_count": 205,
     "metadata": {},
     "output_type": "execute_result"
    }
   ],
   "source": [
    "df = pd.DataFrame(users)\n",
    "df.head()"
   ]
  },
  {
   "attachments": {},
   "cell_type": "markdown",
   "metadata": {},
   "source": [
    "### Rename Columns"
   ]
  },
  {
   "cell_type": "code",
   "execution_count": 206,
   "metadata": {},
   "outputs": [],
   "source": [
    "new_columns = []\n",
    "for col in df.columns:\n",
    "    new_columns.append(col.lower().replace(\" \", \"_\")) # Make all columns standardized formats\n",
    "df.columns = new_columns"
   ]
  },
  {
   "attachments": {},
   "cell_type": "markdown",
   "metadata": {},
   "source": [
    "### Extract to CSV"
   ]
  },
  {
   "cell_type": "code",
   "execution_count": 207,
   "metadata": {},
   "outputs": [],
   "source": [
    "df.to_csv(\"emissions.csv\", index=False)"
   ]
  }
 ],
 "metadata": {
  "kernelspec": {
   "display_name": "Python 3",
   "language": "python",
   "name": "python3"
  },
  "language_info": {
   "codemirror_mode": {
    "name": "ipython",
    "version": 3
   },
   "file_extension": ".py",
   "mimetype": "text/x-python",
   "name": "python",
   "nbconvert_exporter": "python",
   "pygments_lexer": "ipython3",
   "version": "3.10.7"
  },
  "orig_nbformat": 4,
  "vscode": {
   "interpreter": {
    "hash": "aee8b7b246df8f9039afb4144a1f6fd8d2ca17a180786b69acc140d282b71a49"
   }
  }
 },
 "nbformat": 4,
 "nbformat_minor": 2
}
