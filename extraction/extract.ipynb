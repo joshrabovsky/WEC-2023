{
 "cells": [
  {
   "attachments": {},
   "cell_type": "markdown",
   "metadata": {},
   "source": [
    "# Text Extraction\n",
    "\n",
    "NOTES\n",
    "\n",
    "- The primary key found was endpoint and controller\n",
    "- The number of requests and responses mismatched. The removed user was chosen was based on the request with the same primary key and only one response. The specific user removed is based on their 0% new year resolution, and as such would likely not have a need for the data visualizations."
   ]
  },
  {
   "attachments": {},
   "cell_type": "markdown",
   "metadata": {},
   "source": [
    "## Imports"
   ]
  },
  {
   "cell_type": "code",
   "execution_count": 66,
   "metadata": {},
   "outputs": [],
   "source": [
    "import re\n",
    "import json\n",
    "import pandas as pd"
   ]
  },
  {
   "attachments": {},
   "cell_type": "markdown",
   "metadata": {},
   "source": [
    "## Data Extraction"
   ]
  },
  {
   "attachments": {},
   "cell_type": "markdown",
   "metadata": {},
   "source": [
    "### All Data"
   ]
  },
  {
   "cell_type": "code",
   "execution_count": 76,
   "metadata": {},
   "outputs": [],
   "source": [
    "items = []\n",
    "\n",
    "# open file\n",
    "with open(\"data_cleaned.txt\") as f:\n",
    "    lines = [line.rstrip() for line in f] # read all files and remove whitespace\n",
    "    for line in lines:\n",
    "        if re.search(\"Request|Response\", line): # Each request/response makes a new dict\n",
    "            items.append({})\n",
    "        elif len(line) == 0: \n",
    "            pass # skip if there is no content in the line\n",
    "        else:\n",
    "            k, v = re.split(\":\\s\", line) # add the key value pair to the list\n",
    "            items[-1][k.strip()] = v.strip() # Add to dictionary and remove surrounding whitespace"
   ]
  },
  {
   "attachments": {},
   "cell_type": "markdown",
   "metadata": {},
   "source": [
    "### Extract Discipline"
   ]
  },
  {
   "cell_type": "code",
   "execution_count": 85,
   "metadata": {},
   "outputs": [],
   "source": [
    "for i in items:\n",
    "    i['Discipline'] = re.search(\"edge\\/(.*)$\", i['Endpoint']).group(1) # Extract the displine from endpoint using regex"
   ]
  },
  {
   "attachments": {},
   "cell_type": "markdown",
   "metadata": {},
   "source": [
    "### Match Request and Responses"
   ]
  },
  {
   "cell_type": "code",
   "execution_count": 93,
   "metadata": {},
   "outputs": [],
   "source": [
    "users = [] # list of users\n",
    "found = set() # set of found users using Primary Key of discipline and Controller\n",
    "for i in range(len(items)):\n",
    "    i1 = items[i]\n",
    "    if (i1['Controller'], i1['Discipline']) in found: # if the user already exists, skip\n",
    "        continue\n",
    "    for j in range(i+1, len(items)):\n",
    "        i2 = items[j]\n",
    "        if i1['Controller'] == i2['Controller'] and i1['Discipline'] == i2['Discipline']: # if the primary keys aforementioned match\n",
    "            users.append({}) # make a new user\n",
    "            for k, v in i1.items():\n",
    "                users[-1][k] = v # add all keys and values to user\n",
    "            for k, v in i2.items():\n",
    "                users[-1][k] = v # add all keys and values to user\n",
    "            found.add((i1['Controller'], i1['Discipline']))\n",
    "            break"
   ]
  },
  {
   "attachments": {},
   "cell_type": "markdown",
   "metadata": {},
   "source": [
    "### Value Checks"
   ]
  },
  {
   "cell_type": "code",
   "execution_count": 100,
   "metadata": {},
   "outputs": [
    {
     "name": "stdout",
     "output_type": "stream",
     "text": [
      "15 {'Address': '178373', 'Red Meat': '100 pounds', 'Controller': 'LocationController', 'Grains': '2 pounds', 'Action': 'Get', 'Endpoint': '(OWL) https://uwo.ca/edge/software', 'Dairy': '200 pounds', 'Cellphone': '55 hours', 'TV': '43 hours', 'Computer': '130 hours', 'New Year Resolution': '5%', 'Discipline': 'software', 'Username': 'Sammy', 'Car': '150 hours', 'Walking': '3 hours', 'Public Transport': '10 hours', 'Status': '4', 'Items/Total': '2/1', 'Red Meat CO2 Emissions': 800.0, 'Grains CO2 Emissions': 7.4, 'Dairy CO2 Emissions': 1260.0, 'Cellphone CO2 Emissions': 198.0, 'TV CO2 Emissions': 292.4, 'Computer CO2 Emissions': 546.0, 'Car CO2 Emissions': 975.0, 'Walking CO2 Emissions': 0, 'Public Transport CO2 Emissions': 43.0}\n"
     ]
    }
   ],
   "source": [
    "print(\n",
    "    len(users), users[0]\n",
    ")"
   ]
  },
  {
   "attachments": {},
   "cell_type": "markdown",
   "metadata": {},
   "source": [
    "### Add Conversion Metrics"
   ]
  },
  {
   "cell_type": "code",
   "execution_count": 106,
   "metadata": {},
   "outputs": [
    {
     "data": {
      "text/plain": [
       "{'Public Transport': 4.3,\n",
       " 'Car': 6.5,\n",
       " 'Walking': 0,\n",
       " 'Red Meat': 8.0,\n",
       " 'Dairy': 6.3,\n",
       " 'Grains': 3.7,\n",
       " 'Cellphone': 3.6,\n",
       " 'Computer': 4.2,\n",
       " 'TV': 6.8}"
      ]
     },
     "execution_count": 106,
     "metadata": {},
     "output_type": "execute_result"
    }
   ],
   "source": [
    "conversions = {} \n",
    "with open('conversion_table.json') as f:\n",
    "    conversions = json.loads(f.read()) # Using the data provided in the product requirements\n",
    "conversions"
   ]
  },
  {
   "cell_type": "code",
   "execution_count": 115,
   "metadata": {},
   "outputs": [],
   "source": [
    "for u in users:\n",
    "    for k in ['Red Meat', 'Grains', 'Dairy', 'Cellphone', 'TV', 'Computer', 'Car', 'Walking', 'Public Transport']: # List of conversion factors from the text file\n",
    "        units = int(re.search(\"^(.*)\\s\", u[k]).group(1)) # extract of units and converted into integers\n",
    "        CO2 = units * conversions[k] # mutliply units by conversion factors\n",
    "        col_name = f\"{k} CO2 Emissions\"\n",
    "        u[col_name] = CO2 # Add new column to table"
   ]
  },
  {
   "attachments": {},
   "cell_type": "markdown",
   "metadata": {},
   "source": [
    "## Extract CSV"
   ]
  },
  {
   "attachments": {},
   "cell_type": "markdown",
   "metadata": {},
   "source": [
    "### JSON To CSV Conversion"
   ]
  },
  {
   "cell_type": "code",
   "execution_count": 119,
   "metadata": {},
   "outputs": [
    {
     "data": {
      "text/html": [
       "<div>\n",
       "<style scoped>\n",
       "    .dataframe tbody tr th:only-of-type {\n",
       "        vertical-align: middle;\n",
       "    }\n",
       "\n",
       "    .dataframe tbody tr th {\n",
       "        vertical-align: top;\n",
       "    }\n",
       "\n",
       "    .dataframe thead th {\n",
       "        text-align: right;\n",
       "    }\n",
       "</style>\n",
       "<table border=\"1\" class=\"dataframe\">\n",
       "  <thead>\n",
       "    <tr style=\"text-align: right;\">\n",
       "      <th></th>\n",
       "      <th>Address</th>\n",
       "      <th>Red Meat</th>\n",
       "      <th>Controller</th>\n",
       "      <th>Grains</th>\n",
       "      <th>Action</th>\n",
       "      <th>Endpoint</th>\n",
       "      <th>Dairy</th>\n",
       "      <th>Cellphone</th>\n",
       "      <th>TV</th>\n",
       "      <th>Computer</th>\n",
       "      <th>...</th>\n",
       "      <th>Items/Total</th>\n",
       "      <th>Red Meat CO2 Emissions</th>\n",
       "      <th>Grains CO2 Emissions</th>\n",
       "      <th>Dairy CO2 Emissions</th>\n",
       "      <th>Cellphone CO2 Emissions</th>\n",
       "      <th>TV CO2 Emissions</th>\n",
       "      <th>Computer CO2 Emissions</th>\n",
       "      <th>Car CO2 Emissions</th>\n",
       "      <th>Walking CO2 Emissions</th>\n",
       "      <th>Public Transport CO2 Emissions</th>\n",
       "    </tr>\n",
       "  </thead>\n",
       "  <tbody>\n",
       "    <tr>\n",
       "      <th>0</th>\n",
       "      <td>178373</td>\n",
       "      <td>100 pounds</td>\n",
       "      <td>LocationController</td>\n",
       "      <td>2 pounds</td>\n",
       "      <td>Get</td>\n",
       "      <td>(OWL) https://uwo.ca/edge/software</td>\n",
       "      <td>200 pounds</td>\n",
       "      <td>55 hours</td>\n",
       "      <td>43 hours</td>\n",
       "      <td>130 hours</td>\n",
       "      <td>...</td>\n",
       "      <td>2/1</td>\n",
       "      <td>800.0</td>\n",
       "      <td>7.4</td>\n",
       "      <td>1260.0</td>\n",
       "      <td>198.0</td>\n",
       "      <td>292.4</td>\n",
       "      <td>546.0</td>\n",
       "      <td>975.0</td>\n",
       "      <td>0</td>\n",
       "      <td>43.0</td>\n",
       "    </tr>\n",
       "    <tr>\n",
       "      <th>1</th>\n",
       "      <td>156354</td>\n",
       "      <td>89 pounds</td>\n",
       "      <td>Controlmite</td>\n",
       "      <td>167 pounds</td>\n",
       "      <td>Get</td>\n",
       "      <td>(OWL) https://uwo.ca/edge/software</td>\n",
       "      <td>42 pounds</td>\n",
       "      <td>42 hours</td>\n",
       "      <td>75 hours</td>\n",
       "      <td>88 hours</td>\n",
       "      <td>...</td>\n",
       "      <td>3/1</td>\n",
       "      <td>712.0</td>\n",
       "      <td>617.9</td>\n",
       "      <td>264.6</td>\n",
       "      <td>151.2</td>\n",
       "      <td>510.0</td>\n",
       "      <td>369.6</td>\n",
       "      <td>487.5</td>\n",
       "      <td>0</td>\n",
       "      <td>184.9</td>\n",
       "    </tr>\n",
       "    <tr>\n",
       "      <th>2</th>\n",
       "      <td>919323</td>\n",
       "      <td>26 pounds</td>\n",
       "      <td>ControlPublic</td>\n",
       "      <td>78 pounds</td>\n",
       "      <td>Get</td>\n",
       "      <td>https://uwo.ca/edge/electrical</td>\n",
       "      <td>78 pounds</td>\n",
       "      <td>100 hours</td>\n",
       "      <td>50 hours</td>\n",
       "      <td>75 hours</td>\n",
       "      <td>...</td>\n",
       "      <td>3/5</td>\n",
       "      <td>208.0</td>\n",
       "      <td>288.6</td>\n",
       "      <td>491.4</td>\n",
       "      <td>360.0</td>\n",
       "      <td>340.0</td>\n",
       "      <td>315.0</td>\n",
       "      <td>546.0</td>\n",
       "      <td>0</td>\n",
       "      <td>335.4</td>\n",
       "    </tr>\n",
       "    <tr>\n",
       "      <th>3</th>\n",
       "      <td>983575</td>\n",
       "      <td>35 pounds</td>\n",
       "      <td>Controlz</td>\n",
       "      <td>78 pounds</td>\n",
       "      <td>Get</td>\n",
       "      <td>(OWL) https://uwo.ca/edge/mechanical</td>\n",
       "      <td>64 pounds</td>\n",
       "      <td>78 hours</td>\n",
       "      <td>50 hours</td>\n",
       "      <td>5 hours</td>\n",
       "      <td>...</td>\n",
       "      <td>3/1</td>\n",
       "      <td>280.0</td>\n",
       "      <td>288.6</td>\n",
       "      <td>403.2</td>\n",
       "      <td>280.8</td>\n",
       "      <td>340.0</td>\n",
       "      <td>21.0</td>\n",
       "      <td>130.0</td>\n",
       "      <td>0</td>\n",
       "      <td>146.2</td>\n",
       "    </tr>\n",
       "    <tr>\n",
       "      <th>4</th>\n",
       "      <td>919325</td>\n",
       "      <td>55 pounds</td>\n",
       "      <td>LocationController</td>\n",
       "      <td>44 pounds</td>\n",
       "      <td>Get</td>\n",
       "      <td>https://uwo.ca/edge/mechanical</td>\n",
       "      <td>88 pounds</td>\n",
       "      <td>0 hours</td>\n",
       "      <td>100 hours</td>\n",
       "      <td>50 hours</td>\n",
       "      <td>...</td>\n",
       "      <td>3/3</td>\n",
       "      <td>440.0</td>\n",
       "      <td>162.8</td>\n",
       "      <td>554.4</td>\n",
       "      <td>0.0</td>\n",
       "      <td>680.0</td>\n",
       "      <td>210.0</td>\n",
       "      <td>507.0</td>\n",
       "      <td>0</td>\n",
       "      <td>94.6</td>\n",
       "    </tr>\n",
       "  </tbody>\n",
       "</table>\n",
       "<p>5 rows × 27 columns</p>\n",
       "</div>"
      ],
      "text/plain": [
       "  Address    Red Meat          Controller      Grains Action  \\\n",
       "0  178373  100 pounds  LocationController    2 pounds    Get   \n",
       "1  156354   89 pounds         Controlmite  167 pounds    Get   \n",
       "2  919323   26 pounds       ControlPublic   78 pounds    Get   \n",
       "3  983575   35 pounds            Controlz   78 pounds    Get   \n",
       "4  919325   55 pounds  LocationController   44 pounds    Get   \n",
       "\n",
       "                               Endpoint       Dairy  Cellphone         TV  \\\n",
       "0    (OWL) https://uwo.ca/edge/software  200 pounds   55 hours   43 hours   \n",
       "1    (OWL) https://uwo.ca/edge/software   42 pounds   42 hours   75 hours   \n",
       "2        https://uwo.ca/edge/electrical   78 pounds  100 hours   50 hours   \n",
       "3  (OWL) https://uwo.ca/edge/mechanical   64 pounds   78 hours   50 hours   \n",
       "4        https://uwo.ca/edge/mechanical   88 pounds    0 hours  100 hours   \n",
       "\n",
       "    Computer  ... Items/Total Red Meat CO2 Emissions Grains CO2 Emissions  \\\n",
       "0  130 hours  ...         2/1                  800.0                  7.4   \n",
       "1   88 hours  ...         3/1                  712.0                617.9   \n",
       "2   75 hours  ...         3/5                  208.0                288.6   \n",
       "3    5 hours  ...         3/1                  280.0                288.6   \n",
       "4   50 hours  ...         3/3                  440.0                162.8   \n",
       "\n",
       "  Dairy CO2 Emissions Cellphone CO2 Emissions TV CO2 Emissions  \\\n",
       "0              1260.0                   198.0            292.4   \n",
       "1               264.6                   151.2            510.0   \n",
       "2               491.4                   360.0            340.0   \n",
       "3               403.2                   280.8            340.0   \n",
       "4               554.4                     0.0            680.0   \n",
       "\n",
       "  Computer CO2 Emissions Car CO2 Emissions  Walking CO2 Emissions  \\\n",
       "0                  546.0             975.0                      0   \n",
       "1                  369.6             487.5                      0   \n",
       "2                  315.0             546.0                      0   \n",
       "3                   21.0             130.0                      0   \n",
       "4                  210.0             507.0                      0   \n",
       "\n",
       "   Public Transport CO2 Emissions  \n",
       "0                            43.0  \n",
       "1                           184.9  \n",
       "2                           335.4  \n",
       "3                           146.2  \n",
       "4                            94.6  \n",
       "\n",
       "[5 rows x 27 columns]"
      ]
     },
     "execution_count": 119,
     "metadata": {},
     "output_type": "execute_result"
    }
   ],
   "source": [
    "df = pd.DataFrame(users)\n",
    "df.head()"
   ]
  },
  {
   "attachments": {},
   "cell_type": "markdown",
   "metadata": {},
   "source": [
    "### Rename Columns"
   ]
  },
  {
   "cell_type": "code",
   "execution_count": 122,
   "metadata": {},
   "outputs": [],
   "source": [
    "new_columns = []\n",
    "for col in df.columns:\n",
    "    new_columns.append(col.lower().replace(\" \", \"_\")) # Make all columns standardized formats\n",
    "df.columns = new_columns"
   ]
  },
  {
   "attachments": {},
   "cell_type": "markdown",
   "metadata": {},
   "source": [
    "### Extract to CSV"
   ]
  },
  {
   "cell_type": "code",
   "execution_count": 123,
   "metadata": {},
   "outputs": [],
   "source": [
    "df.to_csv(\"emissions.csv\")"
   ]
  }
 ],
 "metadata": {
  "kernelspec": {
   "display_name": "Python 3",
   "language": "python",
   "name": "python3"
  },
  "language_info": {
   "codemirror_mode": {
    "name": "ipython",
    "version": 3
   },
   "file_extension": ".py",
   "mimetype": "text/x-python",
   "name": "python",
   "nbconvert_exporter": "python",
   "pygments_lexer": "ipython3",
   "version": "3.7.9 (tags/v3.7.9:13c94747c7, Aug 17 2020, 16:30:00) [MSC v.1900 64 bit (AMD64)]"
  },
  "orig_nbformat": 4,
  "vscode": {
   "interpreter": {
    "hash": "d38678f14c613abdc0d6ce0f4cb1e7e52c233d82e0812f028c5fc8ab0edf1f18"
   }
  }
 },
 "nbformat": 4,
 "nbformat_minor": 2
}
